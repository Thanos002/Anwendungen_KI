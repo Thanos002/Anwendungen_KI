{
  "cells": [
    {
      "cell_type": "markdown",
      "metadata": {
        "id": "xpTjbZHZZICZ"
      },
      "source": [
        "# Resource Description Framework (RDF)"
      ]
    },
    {
      "cell_type": "markdown",
      "metadata": {
        "id": "qs9ie6xZZICj"
      },
      "source": [
        "In this notebook, we will learn about the concepts associated with the Resource Descriptiion Framework (RDF). \n",
        "\n",
        "This notebook is structured as follows:\n",
        "* [RDF Triple](#RDF_Triple)\n",
        "* [Blank Nodes](#Blank_Nodes)\n",
        "* [Literals](#Literals)\n",
        "* [RDF Graphs](#RDF_Graphs)\n",
        "* [Exercises](#Exercises3)\n",
        "\n",
        "To handle RDF data, we are going to use the `rdflib` library https://rdflib.readthedocs.io.\n",
        "\n",
        "Execute the following commands to install and import this library."
      ]
    },
    {
      "cell_type": "code",
      "execution_count": 1,
      "metadata": {
        "id": "MzSupT3Tqel5"
      },
      "outputs": [
        {
          "name": "stdout",
          "output_type": "stream",
          "text": [
            "Defaulting to user installation because normal site-packages is not writeable\n",
            "Collecting rdflib\n",
            "  Obtaining dependency information for rdflib from https://files.pythonhosted.org/packages/d4/b0/7b7d8b5b0d01f1a0b12cc2e5038a868ef3a15825731b8a0d776cf47566c0/rdflib-7.0.0-py3-none-any.whl.metadata\n",
            "  Downloading rdflib-7.0.0-py3-none-any.whl.metadata (11 kB)\n",
            "Collecting isodate<0.7.0,>=0.6.0 (from rdflib)\n",
            "  Downloading isodate-0.6.1-py2.py3-none-any.whl (41 kB)\n",
            "     ---------------------------------------- 0.0/41.7 kB ? eta -:--:--\n",
            "     --------- ------------------------------ 10.2/41.7 kB ? eta -:--:--\n",
            "     -------------------------------------- 41.7/41.7 kB 669.8 kB/s eta 0:00:00\n",
            "Requirement already satisfied: pyparsing<4,>=2.1.0 in c:\\programdata\\anaconda3\\lib\\site-packages (from rdflib) (3.0.9)\n",
            "Requirement already satisfied: six in c:\\programdata\\anaconda3\\lib\\site-packages (from isodate<0.7.0,>=0.6.0->rdflib) (1.16.0)\n",
            "Downloading rdflib-7.0.0-py3-none-any.whl (531 kB)\n",
            "   ---------------------------------------- 0.0/531.9 kB ? eta -:--:--\n",
            "   --------- ------------------------------ 122.9/531.9 kB 3.6 MB/s eta 0:00:01\n",
            "   ---------------------------------------  522.2/531.9 kB 6.6 MB/s eta 0:00:01\n",
            "   ---------------------------------------  522.2/531.9 kB 6.6 MB/s eta 0:00:01\n",
            "   ---------------------------------------- 531.9/531.9 kB 3.7 MB/s eta 0:00:00\n",
            "Installing collected packages: isodate, rdflib\n",
            "Successfully installed isodate-0.6.1 rdflib-7.0.0\n"
          ]
        },
        {
          "name": "stderr",
          "output_type": "stream",
          "text": [
            "  WARNING: The scripts csv2rdf.exe, rdf2dot.exe, rdfgraphisomorphism.exe, rdfpipe.exe and rdfs2dot.exe are installed in 'C:\\Users\\thano\\AppData\\Roaming\\Python\\Python311\\Scripts' which is not on PATH.\n",
            "  Consider adding this directory to PATH or, if you prefer to suppress this warning, use --no-warn-script-location.\n"
          ]
        }
      ],
      "source": [
        "!pip install rdflib"
      ]
    },
    {
      "cell_type": "code",
      "execution_count": 2,
      "metadata": {
        "id": "UTP2qSTmZICl"
      },
      "outputs": [],
      "source": [
        "import rdflib"
      ]
    },
    {
      "cell_type": "markdown",
      "metadata": {
        "id": "6XR6T8XdZICn"
      },
      "source": [
        "<a id='RDF_Triple'></a> \n",
        "## RDF Triple"
      ]
    },
    {
      "cell_type": "markdown",
      "metadata": {
        "id": "rSxeDHhbZICo"
      },
      "source": [
        "RDF defines a graph-based data model, where the nodes of the graph represent entities/values and the edges represent the relationships among them. \n",
        "\n",
        "In RDF, the basic unit to represent entities and relationships is the **RDF triple**. Each triple is of the form `subject predicate object .`.   \n",
        "\n",
        "For example, the following RDF triple (in [N-Triples](https://www.w3.org/TR/n-triples/)) states that *Marie Curie discovered Radium*:\n",
        "\n",
        "$\n",
        "<http://example.org/science#Marie_Curie> <http://example.org/science#discovered> <http://example.org/science#Radium> .\n",
        "$"
      ]
    },
    {
      "cell_type": "markdown",
      "metadata": {
        "id": "JG_4oAetZICq"
      },
      "source": [
        "To create an RDF triple using `rdflib`, we first create each of the **RDF terms** used in the triple. The RDF terms are:\n",
        "* **URIs**: used to globally identify resources. To create a URI in RDFLib we use `rdflib.URIRef`\n",
        "* **Blank nodes**: refer to resources without identifiers and not globally addressable. To create a blank node in RDFLib we use `rdflib.BNode` \n",
        "* **Literals**: concrete data values (strings, integers, floats, dates, etc.). To create a literal in RDFLib we use `rdflib.Literal` \n",
        "\n",
        "For example, in the following we create the RDF terms for the given RDF triple about Marie Curie.  "
      ]
    },
    {
      "cell_type": "code",
      "execution_count": 3,
      "metadata": {
        "id": "z76ofk7NZICr"
      },
      "outputs": [],
      "source": [
        "mCurie = rdflib.URIRef('http://example.org/science#Marie_Curie')\n",
        "discovered = rdflib.URIRef('http://example.org/science#discovered')\n",
        "radium = rdflib.URIRef('http://example.org/science#Radium')"
      ]
    },
    {
      "cell_type": "markdown",
      "metadata": {
        "id": "yo4eeWHWZICs"
      },
      "source": [
        "Now, we can create an RDF triple by creating a tuple structure in Python, using the previously defined subject (variable `mCurie`), predicate (variable `discovered`), and object (variable `radium`). "
      ]
    },
    {
      "cell_type": "code",
      "execution_count": 4,
      "metadata": {
        "id": "iR5ZaTxsZICu"
      },
      "outputs": [
        {
          "data": {
            "text/plain": [
              "(rdflib.term.URIRef('http://example.org/science#Marie_Curie'),\n",
              " rdflib.term.URIRef('http://example.org/science#discovered'),\n",
              " rdflib.term.URIRef('http://example.org/science#Radium'))"
            ]
          },
          "execution_count": 4,
          "metadata": {},
          "output_type": "execute_result"
        }
      ],
      "source": [
        "triple = (mCurie, discovered, radium)\n",
        "triple"
      ]
    },
    {
      "cell_type": "markdown",
      "metadata": {
        "id": "YF4-OEIYZICw"
      },
      "source": [
        "Formally, RDF triples can be defined as a 3-tuple $<s,p,o> \\ \\in \\ (U \\cup B) \\times U \\times (U \\cup B \\cup L)$, where $U$ is the set of URIs, $B$ the set of blank nodes, and $L$ the set of RDF literals. This means that:\n",
        "* **Subjects** can be URIs or blank nodes\n",
        "* **Predicates** can only be URIs \n",
        "* **Objects** can be URIs, blank nodes, or RDF literals"
      ]
    },
    {
      "cell_type": "markdown",
      "metadata": {
        "id": "gwhPndvvZICx"
      },
      "source": [
        "So far, we have learned how to create triples with URI terms. In the following sections, we will learn more about [blank nodes](#Blank_Nodes) and [literals](#Literals)."
      ]
    },
    {
      "cell_type": "markdown",
      "metadata": {
        "id": "5n_uqi6eZICy"
      },
      "source": [
        "<a id='Blank_Nodes'></a> \n",
        "## Blank Nodes"
      ]
    },
    {
      "cell_type": "markdown",
      "metadata": {
        "id": "OhSceQg_ZICz"
      },
      "source": [
        "Blank nodes (or bnodes) are RDF terms that refer to resources without a known identifier. Formally, blank nodes represent *existential variables*, i.e., they indicate that the resource exists but the concrete value is not given.  \n",
        "\n",
        "For example, assume that we want to model the statement *Marie Curie discovered something*, but we do not know exactly what the discovery was. We can use a blank node in the object position of the triple to indicate that the value of the discovery is, in this example, unknown:\n",
        "\n",
        "$ <http://example.org/science#Marie_Curie> <http://example.org/science#discovered> _:x . $\n",
        "\n",
        "To represent blank nodes in the [N-Triples](https://www.w3.org/TR/n-triples/) serialization, we use the prefix `_:` before the label of the blank node.  \n",
        "\n",
        "**Important.** If the same blank node label (for example, `_:x`) appears in different RDF graphs, they do not represent the same resource. This is what we mean when we say that blank nodes are not *globally addressable*.  \n",
        "\n",
        "In RDFLib, we create a blank node using the function `rdflib.BNode`. "
      ]
    },
    {
      "cell_type": "code",
      "execution_count": 5,
      "metadata": {
        "id": "ZzVzUXArZIC0"
      },
      "outputs": [
        {
          "data": {
            "text/plain": [
              "rdflib.term.BNode('Nd9d632443b3f40548108fc713455159a')"
            ]
          },
          "execution_count": 5,
          "metadata": {},
          "output_type": "execute_result"
        }
      ],
      "source": [
        "discovery = rdflib.BNode()\n",
        "discovery"
      ]
    },
    {
      "cell_type": "markdown",
      "metadata": {
        "id": "l6tztqK5ZIC1"
      },
      "source": [
        "Note that, in this example, RDFLib assigned an internal label or hash to the blank node. \n",
        "\n",
        "**Important.** RDFLib allows for specifying a label for the blank node. However, this functionality should only be used by query engines and not when we are creating the RDF terms and triples manually. \n",
        "\n",
        "Now we can use the blank node `discovery` in an RDF triple to model that *Marie Curie discovered something*. "
      ]
    },
    {
      "cell_type": "code",
      "execution_count": 6,
      "metadata": {
        "id": "8wxRQ7_WZIC2"
      },
      "outputs": [
        {
          "data": {
            "text/plain": [
              "(rdflib.term.URIRef('http://example.org/science#Marie_Curie'),\n",
              " rdflib.term.URIRef('http://example.org/science#discovered'),\n",
              " rdflib.term.BNode('Nd9d632443b3f40548108fc713455159a'))"
            ]
          },
          "execution_count": 6,
          "metadata": {},
          "output_type": "execute_result"
        }
      ],
      "source": [
        "triple2 = (mCurie, discovered, discovery)\n",
        "triple2"
      ]
    },
    {
      "cell_type": "markdown",
      "metadata": {
        "id": "bE15bv58ZIC2"
      },
      "source": [
        "Note that we can reuse the same blank node in another RDF triple. For example, we can model that *Pierre Curie discovered something* and that something is the same resource discovered by Marie Curie, as follows:\n",
        "\n",
        "$<http://example.org/science#Pierre_Curie> <http://example.org/science#discovered> _:x .$ \n",
        "\n",
        "In this case, we just need to create an URI term for Pierre Curie, and reuse the terms in the variables `discovered` and `discovery` that we previously created.  "
      ]
    },
    {
      "cell_type": "code",
      "execution_count": 9,
      "metadata": {
        "id": "BKzzfDtdZIC3"
      },
      "outputs": [
        {
          "data": {
            "text/plain": [
              "(rdflib.term.URIRef('http://example.org/science#Pierre_Curie'),\n",
              " rdflib.term.URIRef('http://example.org/science#discovered'),\n",
              " rdflib.term.BNode('Nd9d632443b3f40548108fc713455159a'))"
            ]
          },
          "execution_count": 9,
          "metadata": {},
          "output_type": "execute_result"
        }
      ],
      "source": [
        "pCurie = rdflib.URIRef('http://example.org/science#Pierre_Curie')\n",
        "triple3 = (pCurie, discovered, discovery)\n",
        "triple3"
      ]
    },
    {
      "cell_type": "markdown",
      "metadata": {
        "id": "FEJFI1xxZIC3"
      },
      "source": [
        "<a id='Literals'></a> \n",
        "## Literals"
      ]
    },
    {
      "cell_type": "markdown",
      "metadata": {
        "id": "8ZzvywpjZIC4"
      },
      "source": [
        "Literals allow for specifying values (strings, numbers, dates, etc.) in RDF. \n",
        "\n",
        "For example, we use a literal to model the statement *Marie Curie's birthname is Maria Salomea Skłodowska*, as follows:\n",
        "\n",
        "$<http://example.org/science#Marie_Curie> <http://example.org/science#birthname> \"Maria Salomea Skłodowska\" .$\n",
        "\n",
        "In the [N-Triples](https://www.w3.org/TR/n-triples/) serialization, literals are enclosed in quotes. \n",
        "\n",
        "To create a literal in RDFLib, we use the function `rdflib.Literal`.  "
      ]
    },
    {
      "cell_type": "code",
      "execution_count": 10,
      "metadata": {
        "id": "GsyX3yKsZIC5"
      },
      "outputs": [
        {
          "data": {
            "text/plain": [
              "rdflib.term.Literal('Maria Salomea Skłodowska')"
            ]
          },
          "execution_count": 10,
          "metadata": {},
          "output_type": "execute_result"
        }
      ],
      "source": [
        "name = rdflib.Literal(\"Maria Salomea Skłodowska\")\n",
        "name"
      ]
    },
    {
      "cell_type": "markdown",
      "metadata": {
        "id": "VpXPpN1kZIC-"
      },
      "source": [
        "In RDF, it is also possible to specify the datatype (integer, float, date, year, etc.) of a literal. \n",
        "\n",
        "In the [N-Triples](https://www.w3.org/TR/n-triples/) serialization, we specify the datatype preceded by '^^'. \n",
        "For example, the following RDF triple models the statement *Marie Curie's birthdate is \"1867-11-07\" (date)*: \n",
        "\n",
        "$<http://example.org/science#Marie_Curie> <http://example.org/science#birthDate> \"1867-11-07\"^^<http://www.w3.org/2001/XMLSchema#date> .$\n",
        "\n",
        "The valid datatypes are defined in the [XML Schema 1.1 Part 2: Datatypes](http://www.w3.org/TR/xmlschema11-2/). In this notebook, we will use `xsd:boolean`, `xsd:date`, `xsd:integer`, `xsd:float`, and `xsd:gYear`. \n",
        "\n",
        "To create a datatyped literal in RDFLib, we use the function `rdflib.Literal`, and specify the corresponding datatype in the `datatype` input parameter.  In addition, we can use the `rdflib.XSD` namespace instead of writing the full URI of the datatype. "
      ]
    },
    {
      "cell_type": "code",
      "execution_count": 11,
      "metadata": {
        "id": "RI5R6WQZZIC-"
      },
      "outputs": [
        {
          "data": {
            "text/plain": [
              "rdflib.term.Literal('1867-11-07', datatype=rdflib.term.URIRef('http://www.w3.org/2001/XMLSchema#date'))"
            ]
          },
          "execution_count": 11,
          "metadata": {},
          "output_type": "execute_result"
        }
      ],
      "source": [
        "date = rdflib.Literal(\"1867-11-07\", datatype=rdflib.XSD.date)\n",
        "date"
      ]
    },
    {
      "cell_type": "markdown",
      "metadata": {
        "id": "5sJZeL6LZIDB"
      },
      "source": [
        "<a id='RDF_Graphs'></a> \n",
        "## RDF Graphs"
      ]
    },
    {
      "cell_type": "markdown",
      "metadata": {
        "id": "o8sPfdeUZIDB"
      },
      "source": [
        "An RDF graph is a set of RDF triples. To create an RDF graph in RDFLib, we use the function `rdflib.Graph`. This function creates an empty graph.  "
      ]
    },
    {
      "cell_type": "code",
      "execution_count": 12,
      "metadata": {
        "id": "o0Y3GLaTZIDC"
      },
      "outputs": [
        {
          "data": {
            "text/plain": [
              "<Graph identifier=N9bde343092ed4054ac9cbba8f05905ac (<class 'rdflib.graph.Graph'>)>"
            ]
          },
          "execution_count": 12,
          "metadata": {},
          "output_type": "execute_result"
        }
      ],
      "source": [
        "g = rdflib.Graph()\n",
        "g"
      ]
    },
    {
      "cell_type": "markdown",
      "metadata": {
        "id": "DBS3NJbqZIDC"
      },
      "source": [
        "We can add triples to the graph with the function `add` as follows:  "
      ]
    },
    {
      "cell_type": "code",
      "execution_count": 14,
      "metadata": {
        "id": "2d3RZ-1FZIDC"
      },
      "outputs": [
        {
          "data": {
            "text/plain": [
              "<Graph identifier=N9bde343092ed4054ac9cbba8f05905ac (<class 'rdflib.graph.Graph'>)>"
            ]
          },
          "execution_count": 14,
          "metadata": {},
          "output_type": "execute_result"
        }
      ],
      "source": [
        "# Creation of RDF Terms\n",
        "mCurie = rdflib.URIRef('http://example.org/science#Marie_Curie')\n",
        "discovered = rdflib.URIRef('http://example.org/science#discovered')\n",
        "radium = rdflib.URIRef('http://example.org/science#Radium')\n",
        "# Creation of an RDF triple (optional)\n",
        "triple = (mCurie, discovered, radium)\n",
        "# Adding the triple to the graph\n",
        "g.add(triple)\n",
        "g"
      ]
    },
    {
      "cell_type": "markdown",
      "metadata": {
        "id": "jA5eTAxWZIDD"
      },
      "source": [
        "We will now add more exemplary terms and triples to the graph."
      ]
    },
    {
      "cell_type": "code",
      "execution_count": 15,
      "metadata": {
        "id": "6Oh3fNkXZIDD"
      },
      "outputs": [
        {
          "data": {
            "text/plain": [
              "<Graph identifier=N9bde343092ed4054ac9cbba8f05905ac (<class 'rdflib.graph.Graph'>)>"
            ]
          },
          "execution_count": 15,
          "metadata": {},
          "output_type": "execute_result"
        }
      ],
      "source": [
        "birthname = rdflib.URIRef('http://example.org/science#birthname')\n",
        "born = rdflib.URIRef('http://example.org/science#born')\n",
        "hBecquerel = rdflib.URIRef('http://example.org/science#Henry_Becquerel')\n",
        "dateBecquerel = rdflib.Literal(\"1852-12-15\", datatype=rdflib.XSD.date)\n",
        "received = rdflib.URIRef('http://example.org/science#received')\n",
        "nobelPrize = rdflib.URIRef('http://example.org/science#nobelPrize')\n",
        "\n",
        "g.add((mCurie, birthname, name))\n",
        "g.add((mCurie, born, date))\n",
        "g.add((mCurie, received, nobelPrize))\n",
        "g.add((pCurie, received, nobelPrize))\n",
        "g.add((hBecquerel, born, dateBecquerel))\n",
        "g.add((hBecquerel, received, nobelPrize))"
      ]
    },
    {
      "cell_type": "markdown",
      "metadata": {
        "id": "T_MnDwrsjutM"
      },
      "source": [
        "To visualize our graph, run the cell below."
      ]
    },
    {
      "cell_type": "code",
      "execution_count": 18,
      "metadata": {},
      "outputs": [
        {
          "name": "stdout",
          "output_type": "stream",
          "text": [
            "Defaulting to user installation because normal site-packages is not writeable\n",
            "Collecting pydotplus\n",
            "  Downloading pydotplus-2.0.2.tar.gz (278 kB)\n",
            "     ---------------------------------------- 0.0/278.7 kB ? eta -:--:--\n",
            "     - -------------------------------------- 10.2/278.7 kB ? eta -:--:--\n",
            "     ---- -------------------------------- 30.7/278.7 kB 660.6 kB/s eta 0:00:01\n",
            "     ------------------------------ ------- 225.3/278.7 kB 2.3 MB/s eta 0:00:01\n",
            "     -------------------------------------- 278.7/278.7 kB 2.9 MB/s eta 0:00:00\n",
            "  Preparing metadata (setup.py): started\n",
            "  Preparing metadata (setup.py): finished with status 'done'\n",
            "Requirement already satisfied: pyparsing>=2.0.1 in c:\\programdata\\anaconda3\\lib\\site-packages (from pydotplus) (3.0.9)\n",
            "Building wheels for collected packages: pydotplus\n",
            "  Building wheel for pydotplus (setup.py): started\n",
            "  Building wheel for pydotplus (setup.py): finished with status 'done'\n",
            "  Created wheel for pydotplus: filename=pydotplus-2.0.2-py3-none-any.whl size=24578 sha256=709573d160bfa76e5f6ea1b239f2b1a7c5a95a2ed4f9c33f5f76beac3ae68c31\n",
            "  Stored in directory: c:\\users\\thano\\appdata\\local\\pip\\cache\\wheels\\bd\\ce\\e8\\ff9d9c699514922f57caa22fbd55b0a32761114b4c4acc9e03\n",
            "Successfully built pydotplus\n",
            "Installing collected packages: pydotplus\n",
            "Successfully installed pydotplus-2.0.2\n"
          ]
        }
      ],
      "source": [
        "!pip install pydotplus"
      ]
    },
    {
      "cell_type": "code",
      "execution_count": 19,
      "metadata": {
        "id": "grFaALqwkLoR"
      },
      "outputs": [
        {
          "data": {
            "image/png": "[encoded data removed]",
            "text/plain": [
              "<IPython.core.display.Image object>"
            ]
          },
          "metadata": {},
          "output_type": "display_data"
        }
      ],
      "source": [
        "import io\n",
        "import pydotplus\n",
        "from IPython.display import display, Image\n",
        "from rdflib.tools.rdf2dot import rdf2dot\n",
        "\n",
        "def visualize(g):\n",
        "    stream = io.StringIO()\n",
        "    rdf2dot(g, stream, opts = {display})\n",
        "    dg = pydotplus.graph_from_dot_data(stream.getvalue())\n",
        "    png = dg.create_png()\n",
        "    display(Image(png))\n",
        "\n",
        "visualize(g)"
      ]
    },
    {
      "cell_type": "markdown",
      "metadata": {
        "id": "_Vhz83qnl0St"
      },
      "source": [
        "<a id='Sparql3'></a>\n",
        "## SPARQL"
      ]
    },
    {
      "cell_type": "markdown",
      "metadata": {
        "id": "PjIpu8tvmchQ"
      },
      "source": [
        "SPARQL (a recursive acronym for SPARQL Protocol and RDF Query Language) is a semantic query language for graph databases,<br>\n",
        "meaning, it can be used to retrieve and manipulate RDF data.\n",
        "\n",
        "There are four types of SPARQL queries, but for the purpose of this exercise we will focus on the most important one - SELECT queries. <br>With it we can select all or some of the matches from the graph we have built above.\n"
      ]
    },
    {
      "cell_type": "code",
      "execution_count": 20,
      "metadata": {
        "id": "8QVgKIU9A17c"
      },
      "outputs": [
        {
          "name": "stdout",
          "output_type": "stream",
          "text": [
            "(rdflib.term.URIRef('http://example.org/science#Marie_Curie'), rdflib.term.URIRef('http://example.org/science#discovered'), rdflib.term.URIRef('http://example.org/science#Radium'))\n",
            "(rdflib.term.URIRef('http://example.org/science#Pierre_Curie'), rdflib.term.URIRef('http://example.org/science#received'), rdflib.term.URIRef('http://example.org/science#nobelPrize'))\n",
            "(rdflib.term.URIRef('http://example.org/science#Marie_Curie'), rdflib.term.URIRef('http://example.org/science#born'), rdflib.term.Literal('1867-11-07', datatype=rdflib.term.URIRef('http://www.w3.org/2001/XMLSchema#date')))\n",
            "(rdflib.term.URIRef('http://example.org/science#Henry_Becquerel'), rdflib.term.URIRef('http://example.org/science#received'), rdflib.term.URIRef('http://example.org/science#nobelPrize'))\n",
            "(rdflib.term.URIRef('http://example.org/science#Henry_Becquerel'), rdflib.term.URIRef('http://example.org/science#born'), rdflib.term.Literal('1852-12-15', datatype=rdflib.term.URIRef('http://www.w3.org/2001/XMLSchema#date')))\n",
            "(rdflib.term.URIRef('http://example.org/science#Marie_Curie'), rdflib.term.URIRef('http://example.org/science#received'), rdflib.term.URIRef('http://example.org/science#nobelPrize'))\n",
            "(rdflib.term.URIRef('http://example.org/science#Marie_Curie'), rdflib.term.URIRef('http://example.org/science#birthname'), rdflib.term.Literal('Maria Salomea Skłodowska'))\n"
          ]
        }
      ],
      "source": [
        "# This query returns all triples in the graph\n",
        "q1 = \"\"\"\n",
        "    PREFIX ex: <http://example.org/science#>\n",
        "    SELECT ?s ?p ?o\n",
        "    WHERE {\n",
        "           ?s ?p ?o .\n",
        "    }\n",
        "\"\"\"\n",
        "\n",
        "# Apply the query to our graph and iterate through results\n",
        "for result in g.query(q1):\n",
        "    print(result)"
      ]
    },
    {
      "cell_type": "code",
      "execution_count": 21,
      "metadata": {
        "id": "UFsGylT5nWOZ"
      },
      "outputs": [
        {
          "name": "stdout",
          "output_type": "stream",
          "text": [
            "(rdflib.term.Literal('1867-11-07', datatype=rdflib.term.URIRef('http://www.w3.org/2001/XMLSchema#date')),)\n",
            "(rdflib.term.Literal('1852-12-15', datatype=rdflib.term.URIRef('http://www.w3.org/2001/XMLSchema#date')),)\n"
          ]
        }
      ],
      "source": [
        "# This query returns the birthdate of all instances\n",
        "q2 = \"\"\"\n",
        "    PREFIX ex: <http://example.org/science#>\n",
        "    SELECT ?date\n",
        "    WHERE {\n",
        "           ?p ex:born ?date .\n",
        "    }\n",
        "\"\"\"\n",
        "\n",
        "# Apply the query to our graph and iterate through results\n",
        "for result in g.query(q2):\n",
        "    print(result)"
      ]
    },
    {
      "cell_type": "markdown",
      "metadata": {
        "id": "Sa9KELttZIDI"
      },
      "source": [
        "<a id='Exercises3'></a>\n",
        "## Exercises"
      ]
    },
    {
      "cell_type": "markdown",
      "metadata": {
        "id": "tszgHq-xZIDI"
      },
      "source": [
        "**Exercise 1.** Create an empty RDF graph using RDFLib. "
      ]
    },
    {
      "cell_type": "code",
      "execution_count": 22,
      "metadata": {
        "id": "OyFxh31YZIDI"
      },
      "outputs": [],
      "source": [
        "g1 = rdflib.Graph()"
      ]
    },
    {
      "cell_type": "markdown",
      "metadata": {
        "id": "XOeHZIDXZIDI"
      },
      "source": [
        "**Exercise 2.** Create RDF triples in RDFLib for the following triples in N-triples serialization.\n",
        "\n",
        "* $<http://example.org/science#Alan_Turing> <http://example.org/science#field> <http://example.org/science#ComputerScience> .$\n",
        "* $<http://example.org/science#Alan_Turing> <http://example.org/science#field> <http://example.org/science#Logic> .$\n",
        "* $<http://example.org/science#Alan_Turing> <http://example.org/science#bornYear> \"1938\"^^<http://www.w3.org/2001/XMLSchema#gYear> .$\n",
        "* $<http://example.org/science#Alan_Turing> <http://example.org/science#thesisTitle> \"Systems of Logic Based on Ordinals\" .$\n",
        "\n",
        "Add the triples to the graph created in Exercise 1 and visualize it."
      ]
    },
    {
      "cell_type": "code",
      "execution_count": 26,
      "metadata": {
        "id": "im9of3KsZIDJ"
      },
      "outputs": [
        {
          "data": {
            "image/png": "[encoded data removed]",
            "text/plain": [
              "<IPython.core.display.Image object>"
            ]
          },
          "metadata": {},
          "output_type": "display_data"
        }
      ],
      "source": [
        "alan_turing = rdflib.URIRef('http://example.org/science#Alan_Turing')\n",
        "computer_science = rdflib.URIRef('http://example.org/science#Computer_Science')\n",
        "logic = rdflib.URIRef('http://example.org/science#Logic')\n",
        "field = rdflib.URIRef('http://example.org/science#field')\n",
        "bornYear = rdflib.URIRef('http://example.org/science#bornYear')\n",
        "thesisTitle = rdflib.URIRef('http://example.org/science#thesisTitle')\n",
        "\n",
        "g1.add((alan_turing, field, computer_science))\n",
        "g1.add((alan_turing, field, logic))\n",
        "g1.add((alan_turing, bornYear, rdflib.Literal(\"1938\", datatype=rdflib.XSD.gYear)))\n",
        "g1.add((alan_turing, thesisTitle, rdflib.Literal(\"Systems of Logic Based on Ordinals\", lang=\"en\")))\n",
        "\n",
        "visualize(g1)"
      ]
    },
    {
      "cell_type": "markdown",
      "metadata": {
        "id": "x5yUOgWmB1Fg"
      },
      "source": [
        "**Exercise 3.** Write a SPARQL SELECT query and print the title of Alan Turing's thesis from the graph created above."
      ]
    },
    {
      "cell_type": "code",
      "execution_count": 28,
      "metadata": {
        "id": "PYjVUfZZDKX6"
      },
      "outputs": [
        {
          "name": "stdout",
          "output_type": "stream",
          "text": [
            "(rdflib.term.Literal('Systems of Logic Based on Ordinals', lang='en'),)\n"
          ]
        }
      ],
      "source": [
        "\n",
        "q3 = \"\"\"\n",
        "    PREFIX ex: <http://example.org/science#>\n",
        "    SELECT ?title\n",
        "    WHERE {\n",
        "           ex:Alan_Turing ex:thesisTitle ?title .\n",
        "    }\n",
        "\"\"\"\n",
        "\n",
        "def query_rdf(q):\n",
        "    \"\"\"\n",
        "    Executes an RDF SPARQL query and prints the results.\n",
        "\n",
        "    Args:\n",
        "        q (str): The SPARQL query string.\n",
        "\n",
        "    Returns:\n",
        "        Query results.\n",
        "    \"\"\"\n",
        "    for result in g.query(q):\n",
        "        print(result)\n",
        "\n",
        "query_rdf(q3)\n"
      ]
    },
    {
      "cell_type": "markdown",
      "metadata": {
        "id": "T7zp1jiuDKpX"
      },
      "source": [
        "**Exercise 4.** Now go to the [Wikidata SPARQL engine](https://query.wikidata.org/) and write a SPARQL SELECT query that shall retrieve the name in the native language of all persons, who were born in Karlsruhe and were a member of the German National Football Team. Of course, you can try out your own query ideas for the Wikidata graph as well.\n",
        "\n",
        "Hint: In Wikidata, the property *P1559* stands for 'name in the native language', *P19* for 'place of birth', *P54* for 'member of sports team', and entity *Q1040* stands for 'Karlsruhe' and *Q43310* for the 'German National Football Team'. Use the prefixes wd: for Wikidata entities and wdt: for Wikidata properties.PREFIX wd: <http://www.wikidata.org/entity/>\n",
        "PREFIX wdt: <http://www.wikidata.org/prop/direct/>\n",
        "\n"
      ]
    },
    {
      "cell_type": "code",
      "execution_count": 48,
      "metadata": {},
      "outputs": [
        {
          "name": "stdout",
          "output_type": "stream",
          "text": [
            "Oliver Kahn\n",
            "Oliver Bierhoff\n",
            "Mehmet Scholl\n",
            "Dennis Aogo\n"
          ]
        }
      ],
      "source": [
        "\n",
        "# https://rdflib.github.io/sparqlwrapper/\n",
        "\n",
        "import sys\n",
        "from SPARQLWrapper import SPARQLWrapper, JSON\n",
        "\n",
        "endpoint_url = \"https://query.wikidata.org/sparql\"\n",
        "\n",
        "query = \"\"\"\n",
        "SELECT ?name\n",
        "    WHERE {\n",
        "    ?item wdt:P19 wd:Q1040.\n",
        "    ?item wdt:P54 wd:Q43310.\n",
        "    ?item wdt:P1559 ?name.\n",
        "    }\n",
        "\"\"\"\n",
        "\n",
        "\n",
        "def get_results(endpoint_url, query):\n",
        "    user_agent = \"WDQS-example Python/%s.%s\" % (sys.version_info[0], sys.version_info[1])\n",
        "    # TODO adjust user agent; see https://w.wiki/CX6\n",
        "    sparql = SPARQLWrapper(endpoint_url, agent=user_agent)\n",
        "    sparql.setQuery(query)\n",
        "    sparql.setReturnFormat(JSON)\n",
        "    return sparql.query().convert()\n",
        "\n",
        "\n",
        "results = get_results(endpoint_url, query)\n",
        "\n",
        "for result in results[\"results\"][\"bindings\"]:\n",
        "    print(result['name']['value'])\n"
      ]
    }
  ],
  "metadata": {
    "colab": {
      "provenance": []
    },
    "kernelspec": {
      "display_name": "Python 3",
      "language": "python",
      "name": "python3"
    },
    "language_info": {
      "codemirror_mode": {
        "name": "ipython",
        "version": 3
      },
      "file_extension": ".py",
      "mimetype": "text/x-python",
      "name": "python",
      "nbconvert_exporter": "python",
      "pygments_lexer": "ipython3",
      "version": "3.11.5"
    },
    "latex_metadata": {
      "author": "Maribel Acosta",
      "title": "Resource Description Framework - Jupyter Notebook",
      "year": "2019"
    },
    "vscode": {
      "interpreter": {
        "hash": "71c4bab97be2a83de01c8bec6112333230de5470e347c2a61fb5c14c7b511996"
      }
    }
  },
  "nbformat": 4,
  "nbformat_minor": 0
}
