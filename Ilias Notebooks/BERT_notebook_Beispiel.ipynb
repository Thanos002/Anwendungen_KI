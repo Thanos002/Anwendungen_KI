{
  "cells": [
    {
      "cell_type": "markdown",
      "metadata": {
        "id": "t8bjZtmVBuYN"
      },
      "source": [
        "\n",
        "---\n",
        "\n",
        "---\n",
        "\n",
        "\n",
        "## Liebe Studenten,\n",
        "\n",
        "wir möchten Sie ermutigen, den Code selbsttändig auszuführen und sich zu verdeutlichen, was in den jeweiligen Blöcken geschieht. Zum Ausführen können folgende Tastenkombinationen genutzt werden:\n",
        "Strg+enter: Ausführen,\n",
        "shift+enter: Ausführen und in nächsten Block springen"
      ]
    },
    {
      "cell_type": "markdown",
      "metadata": {
        "id": "hNhhpiR-FZol"
      },
      "source": [
        "Wir haben Ihnen einige kleine Verständnisfragen und kurze Aufgaben eingefügt.\n",
        "Viel Spaß und Erfolg dabei!"
      ]
    },
    {
      "cell_type": "markdown",
      "metadata": {
        "id": "QmkmRBH1PlHK"
      },
      "source": [
        "Blog mit ursprünglichem Notebook: https://towardsdatascience.com/bert-for-dummies-step-by-step-tutorial-fb90890ffe03\n",
        "\n",
        "\n",
        "---\n",
        "\n",
        "\n",
        "\n",
        "---\n",
        "\n"
      ]
    },
    {
      "cell_type": "markdown",
      "metadata": {
        "id": "jNKaJz5j_ylj"
      },
      "source": [
        "# BERT Fine-Tuning Sentence Classification"
      ]
    },
    {
      "cell_type": "markdown",
      "metadata": {
        "id": "BJR6t_gCQe_x"
      },
      "source": [
        "## Introduction\n",
        "\n",
        "### History\n",
        "\n",
        "2018 was a breakthrough year in NLP. Transfer learning, particularly models like Allen AI's ELMO, OpenAI's Open-GPT, and Google's BERT allowed researchers to smash multiple benchmarks with minimal task-specific fine-tuning and provided the rest of the NLP community with pretrained models that could easily (with less data and less compute time) be fine-tuned and implemented to produce state of the art results. Unfortunately, for many starting out in NLP and even for some experienced practicioners, the theory and practical application of these powerful models is still not well understood.\n",
        "\n",
        "### What is BERT?\n",
        "\n",
        "BERT (Bidirectional Encoder Representations from Transformers), released in late 2018, is the model we will use in this tutorial to provide readers with a better understanding of and practical guidance for using transfer learning models in NLP. BERT is a method of pretraining language representations that was used to create models that NLP practicioners can then download and use for free. You can either use these models to extract high quality language features from your text data, or you can fine-tune these models on a specific task (classification, entity recognition, question answering, etc.) with your own data to produce state of the art predictions.\n",
        "\n",
        "### What Can BERT Do For Me?\n",
        "\n",
        "This post will explain how you can modify and fine-tune BERT to create a powerful NLP model that quickly gives you state of the art results.\n",
        "\n",
        "### Why Fine-Tuning Rather Than Building My Own Model ?\n",
        "\n",
        "In this tutorial, we will use BERT to train a text classifier. Specifically, we will take the pre-trained BERT model, add an untrained layer of neurons on the end, and train the new model for our classification task. Why do this rather than train a train a specific deep learning model (a CNN, BiLSTM, etc.) that is well suited for the specific NLP task you need?\n",
        "\n",
        "#### Easy Training\n",
        "\n",
        "First, the pre-trained BERT model weights already encode a lot of information about our language. As a result, it takes much less time to train our fine-tuned model - it is as if we have already trained the bottom layers of our network extensively and only need to gently tune them while using their output as features for our classification task. In fact, the authors recommend only 2-4 epochs of training for fine-tuning BERT on a specific NLP task (compared to the hundreds of GPU hours needed to train the original BERT model or a LSTM from scratch!).\n",
        "\n",
        "#### Less Data\n",
        "\n",
        "In addition and perhaps just as important, because of the pre-trained weights this method allows us to fine-tune our task on a much smaller dataset than would be required in a model that is built from scratch. A major drawback of NLP models built from scratch is that we often need a prohibitively large dataset in order to train our network to reasonable accuracy, meaning a lot of time and energy had to be put into dataset creation. By fine-tuning BERT, we are now able to get away with training a model to good performance on a much smaller amount of training data.\n",
        "\n",
        "#### Good Results\n",
        "\n",
        "Second, this simple fine-tuning procedure (typically adding one fully-connected layer on top of BERT and training for a few epochs) was shown to achieve state of the art results with minimal task-specific adjustments for a wide variety of tasks: classification, language inference, semantic similarity, question answering, etc. Rather than implementing custom and sometimes-obscure architetures shown to work well on a specific task, simply fine-tuning BERT is shown to be a better (or at least equal) alternative.\n",
        "\n",
        "#### A Shift in NLP\n",
        "\n",
        "This shift to transfer learning parallels the same shift that took place in computer vision a few years ago. Creating a good deep learning network for computer vision tasks can take millions of parameters and be very expensive to train. Researchers discovered that deep networks learn hierarchical feature representations (simple features like edges at the lowest layers with gradually more complex features at higher layers). Rather than training a new network from scratch each time, the lower layers of a trained network with generalized image features could be copied and transfered for use in another network with a different task. It soon became common practice to download a pre-trained deep network and quickly retrain it for the new task or add additional layers on top - vastly preferable to the expensive process of training a network from scratch. For many, the introduction of deep pre-trained language models in 2018 (ELMO, BERT, ULMFIT, Open-GPT, etc.) signals the same shift to transfer learning in NLP that computer vision saw.\n",
        "\n",
        "Let's get started!"
      ]
    },
    {
      "cell_type": "markdown",
      "metadata": {
        "id": "RX_ZDhicpHkV"
      },
      "source": [
        "## Install and Import"
      ]
    },
    {
      "cell_type": "markdown",
      "metadata": {
        "id": "nSU7yERLP_66"
      },
      "source": [
        "Google Colab offers free GPUs and TPUs! Since we'll be training a large neural network it's best to take advantage of this (in this case we'll attach a GPU), otherwise training will take a very long time.\n",
        "\n",
        "A GPU can be added by going to the menu and selecting:\n",
        "\n",
        "Edit -> Notebook Settings -> Add accelerator (GPU)\n",
        "\n",
        "Then run the following cell to confirm that the GPU is detected."
      ]
    },
    {
      "cell_type": "code",
      "execution_count": 1,
      "metadata": {
        "id": "DEfSbAA4QHas",
        "colab": {
          "base_uri": "https://localhost:8080/"
        },
        "outputId": "a8ac6b0f-a17d-41e6-9114-7485a33a12dc"
      },
      "outputs": [
        {
<<<<<<< HEAD
          "ename": "ModuleNotFoundError",
          "evalue": "No module named 'tensorflow'",
          "output_type": "error",
          "traceback": [
            "\u001b[1;31m---------------------------------------------------------------------------\u001b[0m",
            "\u001b[1;31mModuleNotFoundError\u001b[0m                       Traceback (most recent call last)",
            "\u001b[1;32mc:\\Users\\thano\\Documents\\_Studium\\KIT\\Angewandte Informatik KI\\GitHub\\Anwendungen_KI\\Ilias Notebooks\\BERT_notebook_Beispiel.ipynb Cell 8\u001b[0m line \u001b[0;36m1\n\u001b[1;32m----> <a href='vscode-notebook-cell:/c%3A/Users/thano/Documents/_Studium/KIT/Angewandte%20Informatik%20KI/GitHub/Anwendungen_KI/Ilias%20Notebooks/BERT_notebook_Beispiel.ipynb#X10sZmlsZQ%3D%3D?line=0'>1</a>\u001b[0m \u001b[39mimport\u001b[39;00m \u001b[39mtensorflow\u001b[39;00m \u001b[39mas\u001b[39;00m \u001b[39mtf\u001b[39;00m\n\u001b[0;32m      <a href='vscode-notebook-cell:/c%3A/Users/thano/Documents/_Studium/KIT/Angewandte%20Informatik%20KI/GitHub/Anwendungen_KI/Ilias%20Notebooks/BERT_notebook_Beispiel.ipynb#X10sZmlsZQ%3D%3D?line=2'>3</a>\u001b[0m device_name \u001b[39m=\u001b[39m tf\u001b[39m.\u001b[39mtest\u001b[39m.\u001b[39mgpu_device_name()\n\u001b[0;32m      <a href='vscode-notebook-cell:/c%3A/Users/thano/Documents/_Studium/KIT/Angewandte%20Informatik%20KI/GitHub/Anwendungen_KI/Ilias%20Notebooks/BERT_notebook_Beispiel.ipynb#X10sZmlsZQ%3D%3D?line=3'>4</a>\u001b[0m \u001b[39mif\u001b[39;00m device_name \u001b[39m!=\u001b[39m \u001b[39m'\u001b[39m\u001b[39m/device:GPU:0\u001b[39m\u001b[39m'\u001b[39m:\n",
            "\u001b[1;31mModuleNotFoundError\u001b[0m: No module named 'tensorflow'"
=======
          "output_type": "stream",
          "name": "stdout",
          "text": [
            "Found GPU at: /device:GPU:0\n"
>>>>>>> 2bd213b573c8e4b61b98f3c161d25151f0b1c63a
          ]
        }
      ],
      "source": [
        "import tensorflow as tf\n",
        "\n",
        "device_name = tf.test.gpu_device_name()\n",
        "if device_name != '/device:GPU:0':\n",
        "  raise SystemError('GPU device not found')\n",
        "print('Found GPU at: {}'.format(device_name))"
      ]
    },
    {
      "cell_type": "markdown",
      "metadata": {
        "id": "2ElsnSNUridI"
      },
      "source": [
        "Next, let's install the pytorch interface for BERT by Hugging Face. (This library contains interfaces for other pretrained language models like OpenAI's GPT and GPT-2.) We've selected the pytorch interface because it strikes a nice balance between the high-level APIs (which are easy to use but don't provide insight into how things work) and tensorflow code (which contains lots of details but often sidetracks us into lessons about tensorflow, when the purpose here is BERT!).\n",
        "\n",
        "At the moment, the Hugging Face library seems to be the most widely accepted and powerful pytorch interface for working with BERT. In addition to supporting a variety of different pre-trained language models (and future models to come - BERT will not be state of the art forever), the library also includes pre-built modifications of BERT suited to your specific task. For example, in this tutorial we will use BertForSequenceClassification, but the library also includes BERT modifications designed for token classification, question answering, next sentence prediciton, etc. Using these pre-built classes simplifies the process of modifying BERT for your purposes.\n",
        "\n",
        "**Note**: as of July 2019, the pytorch library called \"pytorch-pretrained-bert pytorch-nlp\" has been updated and renamed as \"pytorch-transformers.\" Though the old name still works, there is a short summary [here](https://github.com/huggingface/pytorch-transformers#Migrating-from-pytorch-pretrained-bert-to-pytorch-transformers) about migrating to the new library. (This mostly involves a few name changes.)"
      ]
    },
    {
      "cell_type": "code",
      "execution_count": 2,
      "metadata": {
        "id": "0NmMdkZO8R6q",
        "colab": {
          "base_uri": "https://localhost:8080/"
        },
        "outputId": "67577c98-2ae5-4c4f-a358-2c8ec37fa495"
      },
      "outputs": [
        {
          "output_type": "stream",
          "name": "stdout",
          "text": [
            "Collecting pytorch-pretrained-bert\n",
            "  Downloading pytorch_pretrained_bert-0.6.2-py3-none-any.whl (123 kB)\n",
            "\u001b[?25l     \u001b[90m━━━━━━━━━━━━━━━━━━━━━━━━━━━━━━━━━━━━━━━━\u001b[0m \u001b[32m0.0/123.8 kB\u001b[0m \u001b[31m?\u001b[0m eta \u001b[36m-:--:--\u001b[0m\r\u001b[2K     \u001b[91m━━━━━━━━━━━━━━━━━━━━━━━━━━━━━━━━━━━━━━━\u001b[0m\u001b[91m╸\u001b[0m \u001b[32m122.9/123.8 kB\u001b[0m \u001b[31m4.3 MB/s\u001b[0m eta \u001b[36m0:00:01\u001b[0m\r\u001b[2K     \u001b[90m━━━━━━━━━━━━━━━━━━━━━━━━━━━━━━━━━━━━━━━━\u001b[0m \u001b[32m123.8/123.8 kB\u001b[0m \u001b[31m3.2 MB/s\u001b[0m eta \u001b[36m0:00:00\u001b[0m\n",
            "\u001b[?25hCollecting pytorch-nlp\n",
            "  Downloading pytorch_nlp-0.5.0-py3-none-any.whl (90 kB)\n",
            "\u001b[?25l     \u001b[90m━━━━━━━━━━━━━━━━━━━━━━━━━━━━━━━━━━━━━━━━\u001b[0m \u001b[32m0.0/90.1 kB\u001b[0m \u001b[31m?\u001b[0m eta \u001b[36m-:--:--\u001b[0m\r\u001b[2K     \u001b[90m━━━━━━━━━━━━━━━━━━━━━━━━━━━━━━━━━━━━━━━━\u001b[0m \u001b[32m90.1/90.1 kB\u001b[0m \u001b[31m16.2 MB/s\u001b[0m eta \u001b[36m0:00:00\u001b[0m\n",
            "\u001b[?25hRequirement already satisfied: torch>=0.4.1 in /usr/local/lib/python3.10/dist-packages (from pytorch-pretrained-bert) (2.1.0+cu118)\n",
            "Requirement already satisfied: numpy in /usr/local/lib/python3.10/dist-packages (from pytorch-pretrained-bert) (1.23.5)\n",
            "Collecting boto3 (from pytorch-pretrained-bert)\n",
            "  Downloading boto3-1.33.4-py3-none-any.whl (139 kB)\n",
            "\u001b[2K     \u001b[90m━━━━━━━━━━━━━━━━━━━━━━━━━━━━━━━━━━━━━━━━\u001b[0m \u001b[32m139.3/139.3 kB\u001b[0m \u001b[31m21.4 MB/s\u001b[0m eta \u001b[36m0:00:00\u001b[0m\n",
            "\u001b[?25hRequirement already satisfied: requests in /usr/local/lib/python3.10/dist-packages (from pytorch-pretrained-bert) (2.31.0)\n",
            "Requirement already satisfied: tqdm in /usr/local/lib/python3.10/dist-packages (from pytorch-pretrained-bert) (4.66.1)\n",
            "Requirement already satisfied: regex in /usr/local/lib/python3.10/dist-packages (from pytorch-pretrained-bert) (2023.6.3)\n",
            "Requirement already satisfied: filelock in /usr/local/lib/python3.10/dist-packages (from torch>=0.4.1->pytorch-pretrained-bert) (3.13.1)\n",
            "Requirement already satisfied: typing-extensions in /usr/local/lib/python3.10/dist-packages (from torch>=0.4.1->pytorch-pretrained-bert) (4.5.0)\n",
            "Requirement already satisfied: sympy in /usr/local/lib/python3.10/dist-packages (from torch>=0.4.1->pytorch-pretrained-bert) (1.12)\n",
            "Requirement already satisfied: networkx in /usr/local/lib/python3.10/dist-packages (from torch>=0.4.1->pytorch-pretrained-bert) (3.2.1)\n",
            "Requirement already satisfied: jinja2 in /usr/local/lib/python3.10/dist-packages (from torch>=0.4.1->pytorch-pretrained-bert) (3.1.2)\n",
            "Requirement already satisfied: fsspec in /usr/local/lib/python3.10/dist-packages (from torch>=0.4.1->pytorch-pretrained-bert) (2023.6.0)\n",
            "Requirement already satisfied: triton==2.1.0 in /usr/local/lib/python3.10/dist-packages (from torch>=0.4.1->pytorch-pretrained-bert) (2.1.0)\n",
            "Collecting botocore<1.34.0,>=1.33.4 (from boto3->pytorch-pretrained-bert)\n",
            "  Downloading botocore-1.33.4-py3-none-any.whl (11.8 MB)\n",
            "\u001b[2K     \u001b[90m━━━━━━━━━━━━━━━━━━━━━━━━━━━━━━━━━━━━━━━━\u001b[0m \u001b[32m11.8/11.8 MB\u001b[0m \u001b[31m109.1 MB/s\u001b[0m eta \u001b[36m0:00:00\u001b[0m\n",
            "\u001b[?25hCollecting jmespath<2.0.0,>=0.7.1 (from boto3->pytorch-pretrained-bert)\n",
            "  Downloading jmespath-1.0.1-py3-none-any.whl (20 kB)\n",
            "Collecting s3transfer<0.9.0,>=0.8.2 (from boto3->pytorch-pretrained-bert)\n",
            "  Downloading s3transfer-0.8.2-py3-none-any.whl (82 kB)\n",
            "\u001b[2K     \u001b[90m━━━━━━━━━━━━━━━━━━━━━━━━━━━━━━━━━━━━━━━━\u001b[0m \u001b[32m82.0/82.0 kB\u001b[0m \u001b[31m14.6 MB/s\u001b[0m eta \u001b[36m0:00:00\u001b[0m\n",
            "\u001b[?25hRequirement already satisfied: charset-normalizer<4,>=2 in /usr/local/lib/python3.10/dist-packages (from requests->pytorch-pretrained-bert) (3.3.2)\n",
            "Requirement already satisfied: idna<4,>=2.5 in /usr/local/lib/python3.10/dist-packages (from requests->pytorch-pretrained-bert) (3.4)\n",
            "Requirement already satisfied: urllib3<3,>=1.21.1 in /usr/local/lib/python3.10/dist-packages (from requests->pytorch-pretrained-bert) (2.0.7)\n",
            "Requirement already satisfied: certifi>=2017.4.17 in /usr/local/lib/python3.10/dist-packages (from requests->pytorch-pretrained-bert) (2023.7.22)\n",
            "Requirement already satisfied: python-dateutil<3.0.0,>=2.1 in /usr/local/lib/python3.10/dist-packages (from botocore<1.34.0,>=1.33.4->boto3->pytorch-pretrained-bert) (2.8.2)\n",
            "Requirement already satisfied: MarkupSafe>=2.0 in /usr/local/lib/python3.10/dist-packages (from jinja2->torch>=0.4.1->pytorch-pretrained-bert) (2.1.3)\n",
            "Requirement already satisfied: mpmath>=0.19 in /usr/local/lib/python3.10/dist-packages (from sympy->torch>=0.4.1->pytorch-pretrained-bert) (1.3.0)\n",
            "Requirement already satisfied: six>=1.5 in /usr/local/lib/python3.10/dist-packages (from python-dateutil<3.0.0,>=2.1->botocore<1.34.0,>=1.33.4->boto3->pytorch-pretrained-bert) (1.16.0)\n",
            "Installing collected packages: pytorch-nlp, jmespath, botocore, s3transfer, boto3, pytorch-pretrained-bert\n",
            "Successfully installed boto3-1.33.4 botocore-1.33.4 jmespath-1.0.1 pytorch-nlp-0.5.0 pytorch-pretrained-bert-0.6.2 s3transfer-0.8.2\n"
          ]
        }
      ],
      "source": [
        "!pip install pytorch-pretrained-bert pytorch-nlp"
      ]
    },
    {
      "cell_type": "code",
      "execution_count": 4,
      "metadata": {
        "id": "Ok002ceNB8E7",
        "colab": {
          "base_uri": "https://localhost:8080/",
          "height": 140
        },
        "outputId": "7b96de72-313f-4645-e626-e346ec18eea2"
      },
      "outputs": [
        {
          "output_type": "error",
          "ename": "SyntaxError",
          "evalue": "ignored",
          "traceback": [
            "\u001b[0;36m  File \u001b[0;32m\"<ipython-input-4-dca3aee1e3ab>\"\u001b[0;36m, line \u001b[0;32m12\u001b[0m\n\u001b[0;31m    matplotlib inline\u001b[0m\n\u001b[0m               ^\u001b[0m\n\u001b[0;31mSyntaxError\u001b[0m\u001b[0;31m:\u001b[0m invalid syntax\n"
          ]
        }
      ],
      "source": [
        "import torch\n",
        "from torch.utils.data import TensorDataset, DataLoader, RandomSampler, SequentialSampler\n",
        "from keras.preprocessing.sequence import pad_sequences\n",
        "from sklearn.model_selection import train_test_split\n",
        "from pytorch_pretrained_bert import BertTokenizer, BertConfig\n",
        "from pytorch_pretrained_bert import BertAdam, BertForSequenceClassification\n",
        "from tqdm import tqdm, trange\n",
        "import pandas as pd\n",
        "import io\n",
        "import numpy as np\n",
        "import matplotlib.pyplot as plt\n",
        "% matplotlib inline"
      ]
    },
    {
      "cell_type": "markdown",
      "metadata": {
        "id": "cqG7FzRVFEIv"
      },
      "source": [
        "In order for torch to use the GPU, we need to identify and specify the GPU as the device. Later, in our training loop, we will load data onto the device."
      ]
    },
    {
      "cell_type": "code",
      "execution_count": 5,
      "metadata": {
        "id": "oYsV4H8fCpZ-",
        "colab": {
          "base_uri": "https://localhost:8080/",
          "height": 35
        },
        "outputId": "6c647f13-a982-4ba7-b028-7b3688e4df77"
      },
      "outputs": [
        {
          "output_type": "execute_result",
          "data": {
            "text/plain": [
              "'Tesla T4'"
            ],
            "application/vnd.google.colaboratory.intrinsic+json": {
              "type": "string"
            }
          },
          "metadata": {},
          "execution_count": 5
        }
      ],
      "source": [
        "device = torch.device(\"cuda\" if torch.cuda.is_available() else \"cpu\")\n",
        "n_gpu = torch.cuda.device_count()\n",
        "torch.cuda.get_device_name(0)"
      ]
    },
    {
      "cell_type": "markdown",
      "metadata": {
        "id": "guw6ZNtaswKc"
      },
      "source": [
        "## Load Dataset\n"
      ]
    },
    {
      "cell_type": "markdown",
      "metadata": {
        "id": "_9ZKxKc04Btk"
      },
      "source": [
        "We'll use The Corpus of Linguistic Acceptability (CoLA) dataset for single sentence classification. It's a set of sentences labeled as grammatically correct or incorrect. The data is as follows:\n",
        "\n",
        "**Column 1**:\tthe code representing the source of the sentence.\n",
        "\n",
        "**Column 2**:\tthe acceptability judgment label (0=unacceptable, 1=acceptable).\n",
        "\n",
        "**Column 3**:\tthe acceptability judgment as originally notated by the author.\n",
        "\n",
        "**Column 4**:\tthe sentence."
      ]
    },
    {
      "cell_type": "markdown",
      "metadata": {
        "id": "NTU8Awqv4Eln"
      },
      "source": [
        "Download the dataset from this link, extract, and move them to your local drive.\n",
        "\n",
        "https://nyu-mll.github.io/CoLA/\n",
        "\n",
        "Both tokenized and raw versions of the data are available. We will use the **raw** version because we need to use the BERT tokenizer to break the text down into tokens and chunks that the model will recognize."
      ]
    },
    {
      "cell_type": "markdown",
      "metadata": {
        "id": "4rGr24mcXJWJ"
      },
      "source": [
        "\n",
        "\n",
        "---\n",
        "\n",
        "\n",
        "\n",
        "---\n",
        "## Hier bitte folgende Datei hochladen:![Trainingsdatensatz.png](data:image/png;base64,iVBORw0KGgoAAAANSUhEUgAAAIAAAAAXCAYAAADDXUcwAAAAAXNSR0IArs4c6QAAAARnQU1BAACxjwv8YQUAAAAJcEhZcwAADsMAAA7DAcdvqGQAAAP2SURBVGhD7Zi/UxNBFMe/l2QGC9E/gUEvFk5stLsMrU5gGKkyOhZ0SRkaOko6mktpOlsqxgGChQ7DDKkoMxRcCv0HxAKVHyHre7t7l70jEUyCzpn7wN3tvre3b9l9b98eliCQMLak9DNhTEkcYMxJHGDMCZ0BTk5O0G63YR4LzHI6k8Hk3btIpRK/+V8IOcDe3h5s25aLLoX81NqL9gW+fP6M6elpTE1NwbIspUiINSEH2N3dxczMDDoddgAW0yJrZ2hfnMPzPBJZmJycxMMHD+Q7CfEmtJd3Op0g4iVmhRb++PgbvlOaODg4IJXZMCGuhBxALaoR/bKm7ul0Gk+fPUMu9wT37t2X0r60qshbeVRbuj4UdZRH1tc1jHTcN+Rf2DS44gBywaUf6LK+W/QzMTGBiTt3rs//dgX7Yh8VW9fjwlDjHtBRB7I5uqAIpwDeAdSvXnaNlgV30ZHPhPgT/p4z87pOB+bi+2qzWW9MD9XlalnuHHzlr3NduS36bY+0UGPo+CrXtdy3U+/qWdeq5oO2pt16uduHFXQy6Li57SxqaGAp6/en3i+X2X6ZaqOy2ctWC9V8t+9yXdUDE0yd+sxXqWUE/grw2dnZEefn5+L07Eycnp6Jn8F1Kn78VBeXN7e2BB0Y9Vu92BYlOML1/DJ5T2lbasR2idynRNJ+qPZ+c891qH24L19HSuFE7TiuUFW2A+Eo5W/sRsc6zLj9dxn1fmA/xLA2I7a4XTApmohsu2TMm8GVFCBnjW78VHQjn5E6o34zHLjLBVUsLKCEJo76BVPrCE3Hhd/crqxQew3rqLagdZw/V0oNHNLXqYLsvKtAplNpx0FxTifXqF2OCBkxHE39+INx98Swz9yWzexjOLXZ8G7B79Y25M7Du8ZGszunJle/AszFpXp48VUl9mcATiOzAAUE/S0eXEfLb5PbtCkPkgLvsKhTAAsLWHabWCWnaFVX0SzOqcCIcOUMwEvMCy0vJdWO0PUEwydGj/0IucYS1nT+4sEH0cI6qm34uY0mdbVm7Ag3xTtEw3mMLJdbW1hvSOntMrRN86zQG7uyD0qZaOotw54rAutrWFvPYaXPZ0YkBehCQMQRNKYzjJ4C3lLCqs2qA80iirQN+pDOc9HUOiu7jqL3lqR/SGEZLpaQ5T4WD5EbSTQWsEDpqHswizBSmxFbQWqxkF0yFtueo9mroZZb6DtHoX8Fv9/cxIvnzyHkv4J7Qzaw8+EDXs7PS4MJ8SbkAB8/fkIqnVJRH1wc8R3pEL7s69djvHn9Sr00MP7njEmJcuQAEf1Xieu4exNygMvLSxX5XVFfMpmMLiXEmZADJIwf4a+AhLEjcYCxBvgF7kWDMzegO3QAAAAASUVORK5CYII=)\n",
        "\n",
        "\n",
        "---\n",
        "\n",
        "\n",
        "\n",
        "---"
      ]
    },
    {
      "cell_type": "code",
      "execution_count": 6,
      "metadata": {
        "id": "DOpikSXbsvn-",
        "colab": {
          "base_uri": "https://localhost:8080/",
          "height": 73
        },
        "outputId": "5169501d-6c16-4ae6-a3e0-8559cab4d4d5"
      },
      "outputs": [
        {
          "output_type": "display_data",
          "data": {
            "text/plain": [
              "<IPython.core.display.HTML object>"
            ],
            "text/html": [
              "\n",
              "     <input type=\"file\" id=\"files-09e63965-e7e8-49be-a991-baf77651c100\" name=\"files[]\" multiple disabled\n",
              "        style=\"border:none\" />\n",
              "     <output id=\"result-09e63965-e7e8-49be-a991-baf77651c100\">\n",
              "      Upload widget is only available when the cell has been executed in the\n",
              "      current browser session. Please rerun this cell to enable.\n",
              "      </output>\n",
              "      <script>// Copyright 2017 Google LLC\n",
              "//\n",
              "// Licensed under the Apache License, Version 2.0 (the \"License\");\n",
              "// you may not use this file except in compliance with the License.\n",
              "// You may obtain a copy of the License at\n",
              "//\n",
              "//      http://www.apache.org/licenses/LICENSE-2.0\n",
              "//\n",
              "// Unless required by applicable law or agreed to in writing, software\n",
              "// distributed under the License is distributed on an \"AS IS\" BASIS,\n",
              "// WITHOUT WARRANTIES OR CONDITIONS OF ANY KIND, either express or implied.\n",
              "// See the License for the specific language governing permissions and\n",
              "// limitations under the License.\n",
              "\n",
              "/**\n",
              " * @fileoverview Helpers for google.colab Python module.\n",
              " */\n",
              "(function(scope) {\n",
              "function span(text, styleAttributes = {}) {\n",
              "  const element = document.createElement('span');\n",
              "  element.textContent = text;\n",
              "  for (const key of Object.keys(styleAttributes)) {\n",
              "    element.style[key] = styleAttributes[key];\n",
              "  }\n",
              "  return element;\n",
              "}\n",
              "\n",
              "// Max number of bytes which will be uploaded at a time.\n",
              "const MAX_PAYLOAD_SIZE = 100 * 1024;\n",
              "\n",
              "function _uploadFiles(inputId, outputId) {\n",
              "  const steps = uploadFilesStep(inputId, outputId);\n",
              "  const outputElement = document.getElementById(outputId);\n",
              "  // Cache steps on the outputElement to make it available for the next call\n",
              "  // to uploadFilesContinue from Python.\n",
              "  outputElement.steps = steps;\n",
              "\n",
              "  return _uploadFilesContinue(outputId);\n",
              "}\n",
              "\n",
              "// This is roughly an async generator (not supported in the browser yet),\n",
              "// where there are multiple asynchronous steps and the Python side is going\n",
              "// to poll for completion of each step.\n",
              "// This uses a Promise to block the python side on completion of each step,\n",
              "// then passes the result of the previous step as the input to the next step.\n",
              "function _uploadFilesContinue(outputId) {\n",
              "  const outputElement = document.getElementById(outputId);\n",
              "  const steps = outputElement.steps;\n",
              "\n",
              "  const next = steps.next(outputElement.lastPromiseValue);\n",
              "  return Promise.resolve(next.value.promise).then((value) => {\n",
              "    // Cache the last promise value to make it available to the next\n",
              "    // step of the generator.\n",
              "    outputElement.lastPromiseValue = value;\n",
              "    return next.value.response;\n",
              "  });\n",
              "}\n",
              "\n",
              "/**\n",
              " * Generator function which is called between each async step of the upload\n",
              " * process.\n",
              " * @param {string} inputId Element ID of the input file picker element.\n",
              " * @param {string} outputId Element ID of the output display.\n",
              " * @return {!Iterable<!Object>} Iterable of next steps.\n",
              " */\n",
              "function* uploadFilesStep(inputId, outputId) {\n",
              "  const inputElement = document.getElementById(inputId);\n",
              "  inputElement.disabled = false;\n",
              "\n",
              "  const outputElement = document.getElementById(outputId);\n",
              "  outputElement.innerHTML = '';\n",
              "\n",
              "  const pickedPromise = new Promise((resolve) => {\n",
              "    inputElement.addEventListener('change', (e) => {\n",
              "      resolve(e.target.files);\n",
              "    });\n",
              "  });\n",
              "\n",
              "  const cancel = document.createElement('button');\n",
              "  inputElement.parentElement.appendChild(cancel);\n",
              "  cancel.textContent = 'Cancel upload';\n",
              "  const cancelPromise = new Promise((resolve) => {\n",
              "    cancel.onclick = () => {\n",
              "      resolve(null);\n",
              "    };\n",
              "  });\n",
              "\n",
              "  // Wait for the user to pick the files.\n",
              "  const files = yield {\n",
              "    promise: Promise.race([pickedPromise, cancelPromise]),\n",
              "    response: {\n",
              "      action: 'starting',\n",
              "    }\n",
              "  };\n",
              "\n",
              "  cancel.remove();\n",
              "\n",
              "  // Disable the input element since further picks are not allowed.\n",
              "  inputElement.disabled = true;\n",
              "\n",
              "  if (!files) {\n",
              "    return {\n",
              "      response: {\n",
              "        action: 'complete',\n",
              "      }\n",
              "    };\n",
              "  }\n",
              "\n",
              "  for (const file of files) {\n",
              "    const li = document.createElement('li');\n",
              "    li.append(span(file.name, {fontWeight: 'bold'}));\n",
              "    li.append(span(\n",
              "        `(${file.type || 'n/a'}) - ${file.size} bytes, ` +\n",
              "        `last modified: ${\n",
              "            file.lastModifiedDate ? file.lastModifiedDate.toLocaleDateString() :\n",
              "                                    'n/a'} - `));\n",
              "    const percent = span('0% done');\n",
              "    li.appendChild(percent);\n",
              "\n",
              "    outputElement.appendChild(li);\n",
              "\n",
              "    const fileDataPromise = new Promise((resolve) => {\n",
              "      const reader = new FileReader();\n",
              "      reader.onload = (e) => {\n",
              "        resolve(e.target.result);\n",
              "      };\n",
              "      reader.readAsArrayBuffer(file);\n",
              "    });\n",
              "    // Wait for the data to be ready.\n",
              "    let fileData = yield {\n",
              "      promise: fileDataPromise,\n",
              "      response: {\n",
              "        action: 'continue',\n",
              "      }\n",
              "    };\n",
              "\n",
              "    // Use a chunked sending to avoid message size limits. See b/62115660.\n",
              "    let position = 0;\n",
              "    do {\n",
              "      const length = Math.min(fileData.byteLength - position, MAX_PAYLOAD_SIZE);\n",
              "      const chunk = new Uint8Array(fileData, position, length);\n",
              "      position += length;\n",
              "\n",
              "      const base64 = btoa(String.fromCharCode.apply(null, chunk));\n",
              "      yield {\n",
              "        response: {\n",
              "          action: 'append',\n",
              "          file: file.name,\n",
              "          data: base64,\n",
              "        },\n",
              "      };\n",
              "\n",
              "      let percentDone = fileData.byteLength === 0 ?\n",
              "          100 :\n",
              "          Math.round((position / fileData.byteLength) * 100);\n",
              "      percent.textContent = `${percentDone}% done`;\n",
              "\n",
              "    } while (position < fileData.byteLength);\n",
              "  }\n",
              "\n",
              "  // All done.\n",
              "  yield {\n",
              "    response: {\n",
              "      action: 'complete',\n",
              "    }\n",
              "  };\n",
              "}\n",
              "\n",
              "scope.google = scope.google || {};\n",
              "scope.google.colab = scope.google.colab || {};\n",
              "scope.google.colab._files = {\n",
              "  _uploadFiles,\n",
              "  _uploadFilesContinue,\n",
              "};\n",
              "})(self);\n",
              "</script> "
            ]
          },
          "metadata": {}
        },
        {
          "output_type": "stream",
          "name": "stdout",
          "text": [
            "Saving in_domain_train.tsv to in_domain_train (1).tsv\n"
          ]
        }
      ],
      "source": [
        "# Upload the train file from your local drive\n",
        "from google.colab import files\n",
        "uploaded = files.upload()"
      ]
    },
    {
      "cell_type": "code",
      "execution_count": 7,
      "metadata": {
        "id": "_UkeC7SG2krJ"
      },
      "outputs": [],
      "source": [
        "df = pd.read_csv(\"in_domain_train.tsv\", delimiter='\\t', header=None, names=['sentence_source', 'label', 'label_notes', 'sentence'])"
      ]
    },
    {
      "cell_type": "code",
      "execution_count": 8,
      "metadata": {
        "id": "3UfxtwQy3axu",
        "colab": {
          "base_uri": "https://localhost:8080/"
        },
        "outputId": "560903fe-0fd3-4f0b-add1-04cdd23cd76d"
      },
      "outputs": [
        {
          "output_type": "execute_result",
          "data": {
            "text/plain": [
              "(8551, 4)"
            ]
          },
          "metadata": {},
          "execution_count": 8
        }
      ],
      "source": [
        "df.shape"
      ]
    },
    {
      "cell_type": "markdown",
      "metadata": {
        "id": "9yEAEfoSHBzM"
      },
      "source": [
        "\n",
        "\n",
        "---\n",
        "\n",
        "\n",
        "\n",
        "---\n",
        "\n",
        "## Frage: Warum reichen so wenige Daten zum Training aus?\n",
        "\n",
        "---\n",
        "\n",
        "\n",
        "\n",
        "---"
      ]
    },
    {
      "cell_type": "code",
      "execution_count": 9,
      "metadata": {
        "id": "AQfTaYDo42zu",
        "colab": {
          "base_uri": "https://localhost:8080/",
          "height": 363
        },
        "outputId": "97d8ccdf-6b4d-402f-f569-918599c376fc"
      },
      "outputs": [
        {
          "output_type": "execute_result",
          "data": {
            "text/plain": [
              "     sentence_source  label label_notes  \\\n",
              "1296            r-67      0           *   \n",
              "7563           sks13      1         NaN   \n",
              "2856            l-93      1         NaN   \n",
              "979             bc01      1         NaN   \n",
              "6932            m_02      0           *   \n",
              "1923            r-67      1         NaN   \n",
              "559             bc01      1         NaN   \n",
              "1122            r-67      1         NaN   \n",
              "6622            m_02      1         NaN   \n",
              "937             bc01      1         NaN   \n",
              "\n",
              "                                               sentence  \n",
              "1296  The girl who the by works in a skyscraper and ...  \n",
              "7563               John believes that Bill saw himself.  \n",
              "2856                           The knife cut the bread.  \n",
              "979   John bought the picture of himself that Bill saw.  \n",
              "6932           What happened was they knew his parents.  \n",
              "1923           Which girl did he give my binoculars to?  \n",
              "559                                Water fills the tub.  \n",
              "1122  I found delicious some fruit which I picked up...  \n",
              "6622         This truck spread less salt than that one.  \n",
              "937   Although he likes cabbage too, Fred likes eggp...  "
            ],
            "text/html": [
              "\n",
              "  <div id=\"df-7cb638a9-2103-4276-a256-f0d585f6887e\" class=\"colab-df-container\">\n",
              "    <div>\n",
              "<style scoped>\n",
              "    .dataframe tbody tr th:only-of-type {\n",
              "        vertical-align: middle;\n",
              "    }\n",
              "\n",
              "    .dataframe tbody tr th {\n",
              "        vertical-align: top;\n",
              "    }\n",
              "\n",
              "    .dataframe thead th {\n",
              "        text-align: right;\n",
              "    }\n",
              "</style>\n",
              "<table border=\"1\" class=\"dataframe\">\n",
              "  <thead>\n",
              "    <tr style=\"text-align: right;\">\n",
              "      <th></th>\n",
              "      <th>sentence_source</th>\n",
              "      <th>label</th>\n",
              "      <th>label_notes</th>\n",
              "      <th>sentence</th>\n",
              "    </tr>\n",
              "  </thead>\n",
              "  <tbody>\n",
              "    <tr>\n",
              "      <th>1296</th>\n",
              "      <td>r-67</td>\n",
              "      <td>0</td>\n",
              "      <td>*</td>\n",
              "      <td>The girl who the by works in a skyscraper and ...</td>\n",
              "    </tr>\n",
              "    <tr>\n",
              "      <th>7563</th>\n",
              "      <td>sks13</td>\n",
              "      <td>1</td>\n",
              "      <td>NaN</td>\n",
              "      <td>John believes that Bill saw himself.</td>\n",
              "    </tr>\n",
              "    <tr>\n",
              "      <th>2856</th>\n",
              "      <td>l-93</td>\n",
              "      <td>1</td>\n",
              "      <td>NaN</td>\n",
              "      <td>The knife cut the bread.</td>\n",
              "    </tr>\n",
              "    <tr>\n",
              "      <th>979</th>\n",
              "      <td>bc01</td>\n",
              "      <td>1</td>\n",
              "      <td>NaN</td>\n",
              "      <td>John bought the picture of himself that Bill saw.</td>\n",
              "    </tr>\n",
              "    <tr>\n",
              "      <th>6932</th>\n",
              "      <td>m_02</td>\n",
              "      <td>0</td>\n",
              "      <td>*</td>\n",
              "      <td>What happened was they knew his parents.</td>\n",
              "    </tr>\n",
              "    <tr>\n",
              "      <th>1923</th>\n",
              "      <td>r-67</td>\n",
              "      <td>1</td>\n",
              "      <td>NaN</td>\n",
              "      <td>Which girl did he give my binoculars to?</td>\n",
              "    </tr>\n",
              "    <tr>\n",
              "      <th>559</th>\n",
              "      <td>bc01</td>\n",
              "      <td>1</td>\n",
              "      <td>NaN</td>\n",
              "      <td>Water fills the tub.</td>\n",
              "    </tr>\n",
              "    <tr>\n",
              "      <th>1122</th>\n",
              "      <td>r-67</td>\n",
              "      <td>1</td>\n",
              "      <td>NaN</td>\n",
              "      <td>I found delicious some fruit which I picked up...</td>\n",
              "    </tr>\n",
              "    <tr>\n",
              "      <th>6622</th>\n",
              "      <td>m_02</td>\n",
              "      <td>1</td>\n",
              "      <td>NaN</td>\n",
              "      <td>This truck spread less salt than that one.</td>\n",
              "    </tr>\n",
              "    <tr>\n",
              "      <th>937</th>\n",
              "      <td>bc01</td>\n",
              "      <td>1</td>\n",
              "      <td>NaN</td>\n",
              "      <td>Although he likes cabbage too, Fred likes eggp...</td>\n",
              "    </tr>\n",
              "  </tbody>\n",
              "</table>\n",
              "</div>\n",
              "    <div class=\"colab-df-buttons\">\n",
              "\n",
              "  <div class=\"colab-df-container\">\n",
              "    <button class=\"colab-df-convert\" onclick=\"convertToInteractive('df-7cb638a9-2103-4276-a256-f0d585f6887e')\"\n",
              "            title=\"Convert this dataframe to an interactive table.\"\n",
              "            style=\"display:none;\">\n",
              "\n",
              "  <svg xmlns=\"http://www.w3.org/2000/svg\" height=\"24px\" viewBox=\"0 -960 960 960\">\n",
              "    <path d=\"M120-120v-720h720v720H120Zm60-500h600v-160H180v160Zm220 220h160v-160H400v160Zm0 220h160v-160H400v160ZM180-400h160v-160H180v160Zm440 0h160v-160H620v160ZM180-180h160v-160H180v160Zm440 0h160v-160H620v160Z\"/>\n",
              "  </svg>\n",
              "    </button>\n",
              "\n",
              "  <style>\n",
              "    .colab-df-container {\n",
              "      display:flex;\n",
              "      gap: 12px;\n",
              "    }\n",
              "\n",
              "    .colab-df-convert {\n",
              "      background-color: #E8F0FE;\n",
              "      border: none;\n",
              "      border-radius: 50%;\n",
              "      cursor: pointer;\n",
              "      display: none;\n",
              "      fill: #1967D2;\n",
              "      height: 32px;\n",
              "      padding: 0 0 0 0;\n",
              "      width: 32px;\n",
              "    }\n",
              "\n",
              "    .colab-df-convert:hover {\n",
              "      background-color: #E2EBFA;\n",
              "      box-shadow: 0px 1px 2px rgba(60, 64, 67, 0.3), 0px 1px 3px 1px rgba(60, 64, 67, 0.15);\n",
              "      fill: #174EA6;\n",
              "    }\n",
              "\n",
              "    .colab-df-buttons div {\n",
              "      margin-bottom: 4px;\n",
              "    }\n",
              "\n",
              "    [theme=dark] .colab-df-convert {\n",
              "      background-color: #3B4455;\n",
              "      fill: #D2E3FC;\n",
              "    }\n",
              "\n",
              "    [theme=dark] .colab-df-convert:hover {\n",
              "      background-color: #434B5C;\n",
              "      box-shadow: 0px 1px 3px 1px rgba(0, 0, 0, 0.15);\n",
              "      filter: drop-shadow(0px 1px 2px rgba(0, 0, 0, 0.3));\n",
              "      fill: #FFFFFF;\n",
              "    }\n",
              "  </style>\n",
              "\n",
              "    <script>\n",
              "      const buttonEl =\n",
              "        document.querySelector('#df-7cb638a9-2103-4276-a256-f0d585f6887e button.colab-df-convert');\n",
              "      buttonEl.style.display =\n",
              "        google.colab.kernel.accessAllowed ? 'block' : 'none';\n",
              "\n",
              "      async function convertToInteractive(key) {\n",
              "        const element = document.querySelector('#df-7cb638a9-2103-4276-a256-f0d585f6887e');\n",
              "        const dataTable =\n",
              "          await google.colab.kernel.invokeFunction('convertToInteractive',\n",
              "                                                    [key], {});\n",
              "        if (!dataTable) return;\n",
              "\n",
              "        const docLinkHtml = 'Like what you see? Visit the ' +\n",
              "          '<a target=\"_blank\" href=https://colab.research.google.com/notebooks/data_table.ipynb>data table notebook</a>'\n",
              "          + ' to learn more about interactive tables.';\n",
              "        element.innerHTML = '';\n",
              "        dataTable['output_type'] = 'display_data';\n",
              "        await google.colab.output.renderOutput(dataTable, element);\n",
              "        const docLink = document.createElement('div');\n",
              "        docLink.innerHTML = docLinkHtml;\n",
              "        element.appendChild(docLink);\n",
              "      }\n",
              "    </script>\n",
              "  </div>\n",
              "\n",
              "\n",
              "<div id=\"df-0fe5837e-7cae-4351-93cf-9c659715ead9\">\n",
              "  <button class=\"colab-df-quickchart\" onclick=\"quickchart('df-0fe5837e-7cae-4351-93cf-9c659715ead9')\"\n",
              "            title=\"Suggest charts\"\n",
              "            style=\"display:none;\">\n",
              "\n",
              "<svg xmlns=\"http://www.w3.org/2000/svg\" height=\"24px\"viewBox=\"0 0 24 24\"\n",
              "     width=\"24px\">\n",
              "    <g>\n",
              "        <path d=\"M19 3H5c-1.1 0-2 .9-2 2v14c0 1.1.9 2 2 2h14c1.1 0 2-.9 2-2V5c0-1.1-.9-2-2-2zM9 17H7v-7h2v7zm4 0h-2V7h2v10zm4 0h-2v-4h2v4z\"/>\n",
              "    </g>\n",
              "</svg>\n",
              "  </button>\n",
              "\n",
              "<style>\n",
              "  .colab-df-quickchart {\n",
              "      --bg-color: #E8F0FE;\n",
              "      --fill-color: #1967D2;\n",
              "      --hover-bg-color: #E2EBFA;\n",
              "      --hover-fill-color: #174EA6;\n",
              "      --disabled-fill-color: #AAA;\n",
              "      --disabled-bg-color: #DDD;\n",
              "  }\n",
              "\n",
              "  [theme=dark] .colab-df-quickchart {\n",
              "      --bg-color: #3B4455;\n",
              "      --fill-color: #D2E3FC;\n",
              "      --hover-bg-color: #434B5C;\n",
              "      --hover-fill-color: #FFFFFF;\n",
              "      --disabled-bg-color: #3B4455;\n",
              "      --disabled-fill-color: #666;\n",
              "  }\n",
              "\n",
              "  .colab-df-quickchart {\n",
              "    background-color: var(--bg-color);\n",
              "    border: none;\n",
              "    border-radius: 50%;\n",
              "    cursor: pointer;\n",
              "    display: none;\n",
              "    fill: var(--fill-color);\n",
              "    height: 32px;\n",
              "    padding: 0;\n",
              "    width: 32px;\n",
              "  }\n",
              "\n",
              "  .colab-df-quickchart:hover {\n",
              "    background-color: var(--hover-bg-color);\n",
              "    box-shadow: 0 1px 2px rgba(60, 64, 67, 0.3), 0 1px 3px 1px rgba(60, 64, 67, 0.15);\n",
              "    fill: var(--button-hover-fill-color);\n",
              "  }\n",
              "\n",
              "  .colab-df-quickchart-complete:disabled,\n",
              "  .colab-df-quickchart-complete:disabled:hover {\n",
              "    background-color: var(--disabled-bg-color);\n",
              "    fill: var(--disabled-fill-color);\n",
              "    box-shadow: none;\n",
              "  }\n",
              "\n",
              "  .colab-df-spinner {\n",
              "    border: 2px solid var(--fill-color);\n",
              "    border-color: transparent;\n",
              "    border-bottom-color: var(--fill-color);\n",
              "    animation:\n",
              "      spin 1s steps(1) infinite;\n",
              "  }\n",
              "\n",
              "  @keyframes spin {\n",
              "    0% {\n",
              "      border-color: transparent;\n",
              "      border-bottom-color: var(--fill-color);\n",
              "      border-left-color: var(--fill-color);\n",
              "    }\n",
              "    20% {\n",
              "      border-color: transparent;\n",
              "      border-left-color: var(--fill-color);\n",
              "      border-top-color: var(--fill-color);\n",
              "    }\n",
              "    30% {\n",
              "      border-color: transparent;\n",
              "      border-left-color: var(--fill-color);\n",
              "      border-top-color: var(--fill-color);\n",
              "      border-right-color: var(--fill-color);\n",
              "    }\n",
              "    40% {\n",
              "      border-color: transparent;\n",
              "      border-right-color: var(--fill-color);\n",
              "      border-top-color: var(--fill-color);\n",
              "    }\n",
              "    60% {\n",
              "      border-color: transparent;\n",
              "      border-right-color: var(--fill-color);\n",
              "    }\n",
              "    80% {\n",
              "      border-color: transparent;\n",
              "      border-right-color: var(--fill-color);\n",
              "      border-bottom-color: var(--fill-color);\n",
              "    }\n",
              "    90% {\n",
              "      border-color: transparent;\n",
              "      border-bottom-color: var(--fill-color);\n",
              "    }\n",
              "  }\n",
              "</style>\n",
              "\n",
              "  <script>\n",
              "    async function quickchart(key) {\n",
              "      const quickchartButtonEl =\n",
              "        document.querySelector('#' + key + ' button');\n",
              "      quickchartButtonEl.disabled = true;  // To prevent multiple clicks.\n",
              "      quickchartButtonEl.classList.add('colab-df-spinner');\n",
              "      try {\n",
              "        const charts = await google.colab.kernel.invokeFunction(\n",
              "            'suggestCharts', [key], {});\n",
              "      } catch (error) {\n",
              "        console.error('Error during call to suggestCharts:', error);\n",
              "      }\n",
              "      quickchartButtonEl.classList.remove('colab-df-spinner');\n",
              "      quickchartButtonEl.classList.add('colab-df-quickchart-complete');\n",
              "    }\n",
              "    (() => {\n",
              "      let quickchartButtonEl =\n",
              "        document.querySelector('#df-0fe5837e-7cae-4351-93cf-9c659715ead9 button');\n",
              "      quickchartButtonEl.style.display =\n",
              "        google.colab.kernel.accessAllowed ? 'block' : 'none';\n",
              "    })();\n",
              "  </script>\n",
              "</div>\n",
              "    </div>\n",
              "  </div>\n"
            ]
          },
          "metadata": {},
          "execution_count": 9
        }
      ],
      "source": [
        "df.sample(10)"
      ]
    },
    {
      "cell_type": "code",
      "execution_count": 10,
      "metadata": {
        "id": "GuE5BqICAne2"
      },
      "outputs": [],
      "source": [
        "# Create sentence and label lists\n",
        "sentences = df.sentence.values\n",
        "\n",
        "# We need to add special tokens at the beginning and end of each sentence for BERT to work properly\n",
        "sentences = [\"[CLS] \" + sentence + \" [SEP]\" for sentence in sentences]\n",
        "labels = df.label.values"
      ]
    },
    {
      "cell_type": "markdown",
      "metadata": {
        "id": "ex5O1eV-Pfct"
      },
      "source": [
        "## Inputs"
      ]
    },
    {
      "cell_type": "markdown",
      "metadata": {
        "id": "BTREubVNFiz4"
      },
      "source": [
        "Next, import the BERT tokenizer, used to convert our text into tokens that correspond to BERT's vocabulary."
      ]
    },
    {
      "cell_type": "markdown",
      "metadata": {
        "id": "wm9_FqorHrit"
      },
      "source": [
        "\n",
        "\n",
        "---\n",
        "\n",
        "\n",
        "\n",
        "---\n",
        "## Frage: Lassen Sie sich verschiedene Sätze ausgeben. Welche Tokens werden erstellt?\n",
        "\n",
        "---\n",
        "\n",
        "\n",
        "\n",
        "---\n",
        "\n",
        "\n",
        "\n",
        "---\n",
        "\n",
        "\n"
      ]
    },
    {
      "cell_type": "code",
      "execution_count": 11,
      "metadata": {
        "id": "Z474sSC6oe7A",
        "colab": {
          "base_uri": "https://localhost:8080/"
        },
        "outputId": "11388c35-8d75-4966-b83d-b1e31a5aebbc"
      },
      "outputs": [
        {
          "output_type": "stream",
          "name": "stderr",
          "text": [
            "100%|██████████| 231508/231508 [00:00<00:00, 2805712.27B/s]\n"
          ]
        },
        {
          "output_type": "stream",
          "name": "stdout",
          "text": [
            "Tokenize the first sentence:\n",
            "['[CLS]', 'our', 'friends', 'won', \"'\", 't', 'buy', 'this', 'analysis', ',', 'let', 'alone', 'the', 'next', 'one', 'we', 'propose', '.', '[SEP]']\n"
          ]
        }
      ],
      "source": [
        "tokenizer = BertTokenizer.from_pretrained('bert-base-uncased', do_lower_case=True)\n",
        "\n",
        "tokenized_texts = [tokenizer.tokenize(sent) for sent in sentences]\n",
        "print (\"Tokenize the first sentence:\")\n",
        "print (tokenized_texts[0])"
      ]
    },
    {
      "cell_type": "markdown",
      "metadata": {
        "id": "87_kXUeT2-br"
      },
      "source": [
        "BERT requires specifically formatted inputs. For each tokenized input sentence, we need to create:\n",
        "\n",
        "- **input ids**: a sequence of integers identifying each input token to its index number in the BERT tokenizer vocabulary\n",
        "- **segment mask**: (optional) a sequence of 1s and 0s used to identify whether the input is one sentence or two sentences long. For one sentence inputs, this is simply a sequence of 0s. For two sentence inputs, there is a 0 for each token of the first sentence, followed by a 1 for each token of the second sentence\n",
        "- **attention mask**: (optional) a sequence of 1s and 0s, with 1s for all input tokens and 0s for all padding tokens (we'll detail this in the next paragraph)\n",
        "- **labels**: a single value of 1 or 0. In our task 1 means \"grammatical\" and 0 means \"ungrammatical\""
      ]
    },
    {
      "cell_type": "markdown",
      "metadata": {
        "id": "xytsw1oIfnX0"
      },
      "source": [
        "Although we can have variable length input sentences, BERT does requires our input arrays to be the same size. We address this by first choosing a maximum sentence length, and then padding and truncating our inputs until every input sequence is of the same length.\n",
        "\n",
        "To \"pad\" our inputs in this context means that if a sentence is shorter than the maximum sentence length, we simply add 0s to the end of the sequence until it is the maximum sentence length.\n",
        "\n",
        "If a sentence is longer than the maximum sentence length, then we simply truncate the end of the sequence, discarding anything that does not fit into our maximum sentence length.\n",
        "\n",
        "We pad and truncate our sequences so that they all become of length MAX_LEN (\"post\" indicates that we want to pad and truncate at the end of the sequence, as opposed to the beginning) `pad_sequences` is a utility function that we're borrowing from Keras. It simply handles the truncating and padding of Python lists."
      ]
    },
    {
      "cell_type": "code",
      "execution_count": 12,
      "metadata": {
        "id": "Cp9BPRd1tMIo"
      },
      "outputs": [],
      "source": [
        "# Set the maximum sequence length. The longest sequence in our training set is 47, but we'll leave room on the end anyway.\n",
        "# In the original paper, the authors used a length of 512.\n",
        "MAX_LEN = 128"
      ]
    },
    {
      "cell_type": "code",
      "execution_count": 13,
      "metadata": {
        "id": "mFhowDMohU4H"
      },
      "outputs": [],
      "source": [
        "# Use the BERT tokenizer to convert the tokens to their index numbers in the BERT vocabulary\n",
        "input_ids = [tokenizer.convert_tokens_to_ids(x) for x in tokenized_texts]"
      ]
    },
    {
      "cell_type": "code",
      "execution_count": 14,
      "metadata": {
        "id": "kDs-MYtYH8sL"
      },
      "outputs": [],
      "source": [
        "# Pad our input tokens\n",
        "input_ids = pad_sequences(input_ids, maxlen=MAX_LEN, dtype=\"long\", truncating=\"post\", padding=\"post\")"
      ]
    },
    {
      "cell_type": "markdown",
      "metadata": {
        "id": "YNjuWJurIaOi"
      },
      "source": [
        "\n",
        "\n",
        "---\n",
        "\n",
        "\n",
        "\n",
        "---\n",
        "##Frage: Was ist die Funktion der nachfolgenden Maske?\n",
        "\n",
        "---\n",
        "\n",
        "\n",
        "\n",
        "---\n",
        "\n"
      ]
    },
    {
      "cell_type": "markdown",
      "metadata": {
        "id": "KhGulL1pExCT"
      },
      "source": [
        "Create the attention masks"
      ]
    },
    {
      "cell_type": "code",
      "execution_count": 15,
      "metadata": {
        "id": "cDoC24LeEv3N"
      },
      "outputs": [],
      "source": [
        "# Create attention masks\n",
        "attention_masks = []\n",
        "\n",
        "# Create a mask of 1s for each token followed by 0s for padding\n",
        "for seq in input_ids:\n",
        "  seq_mask = [float(i>0) for i in seq]\n",
        "  attention_masks.append(seq_mask)"
      ]
    },
    {
      "cell_type": "markdown",
      "metadata": {
        "id": "K38zvUujI_eg"
      },
      "source": [
        "\n",
        "\n",
        "---\n",
        "\n",
        "\n",
        "\n",
        "---\n",
        "## Frage: Warum wird das Splitting vorgenommen? Was ist der Unterschied zwischen Trainings- und Validationsdatensätzen?\n",
        "\n",
        "---\n",
        "\n",
        "\n",
        "\n",
        "---\n"
      ]
    },
    {
      "cell_type": "code",
      "execution_count": 16,
      "metadata": {
        "id": "aFbE-UHvsb7-"
      },
      "outputs": [],
      "source": [
        "# Use train_test_split to split our data into train and validation sets for training\n",
        "\n",
        "train_inputs, validation_inputs, train_labels, validation_labels = train_test_split(input_ids, labels,\n",
        "                                                            random_state=2018, test_size=0.1)\n",
        "train_masks, validation_masks, _, _ = train_test_split(attention_masks, input_ids,\n",
        "                                             random_state=2018, test_size=0.1)"
      ]
    },
    {
      "cell_type": "code",
      "execution_count": 17,
      "metadata": {
        "id": "jw5K2A5Ko1RF"
      },
      "outputs": [],
      "source": [
        "# Convert all of our data into torch tensors, the required datatype for our model\n",
        "\n",
        "train_inputs = torch.tensor(train_inputs)\n",
        "validation_inputs = torch.tensor(validation_inputs)\n",
        "train_labels = torch.tensor(train_labels)\n",
        "validation_labels = torch.tensor(validation_labels)\n",
        "train_masks = torch.tensor(train_masks)\n",
        "validation_masks = torch.tensor(validation_masks)"
      ]
    },
    {
      "cell_type": "code",
      "execution_count": 18,
      "metadata": {
        "id": "GEgLpFVlo1Z-"
      },
      "outputs": [],
      "source": [
        "# Select a batch size for training. For fine-tuning BERT on a specific task, the authors recommend a batch size of 16 or 32\n",
        "batch_size = 32\n",
        "\n",
        "# Create an iterator of our data with torch DataLoader. This helps save on memory during training because, unlike a for loop,\n",
        "# with an iterator the entire dataset does not need to be loaded into memory\n",
        "\n",
        "train_data = TensorDataset(train_inputs, train_masks, train_labels)\n",
        "train_sampler = RandomSampler(train_data)\n",
        "train_dataloader = DataLoader(train_data, sampler=train_sampler, batch_size=batch_size)\n",
        "\n",
        "validation_data = TensorDataset(validation_inputs, validation_masks, validation_labels)\n",
        "validation_sampler = SequentialSampler(validation_data)\n",
        "validation_dataloader = DataLoader(validation_data, sampler=validation_sampler, batch_size=batch_size)\n"
      ]
    },
    {
      "cell_type": "markdown",
      "metadata": {
        "id": "pNl8khAhPYju"
      },
      "source": [
        "## Train Model"
      ]
    },
    {
      "cell_type": "markdown",
      "metadata": {
        "id": "fwQ7JcuJQZ0o"
      },
      "source": [
        "Now that our input data is properly formatted, it's time to fine tune the BERT model.\n",
        "\n",
        "For this task, we first want to modify the pre-trained BERT model to give outputs for classification, and then we want to continue training the model on our dataset until that the entire model, end-to-end, is well-suited for our task. Thankfully, the huggingface pytorch implementation includes a set of interfaces designed for a variety of NLP tasks. Though these interfaces are all built on top of a trained BERT model, each has different top layers and output types designed to accomodate their specific NLP task.  \n",
        "\n",
        "We'll load [BertForSequenceClassification](https://github.com/huggingface/pytorch-pretrained-BERT/blob/master/pytorch_pretrained_bert/modeling.py#L1129). This is the normal BERT model with an added single linear layer on top for classification that we will use as a sentence classifier. As we feed input data, the entire pre-trained BERT model and the additional untrained classification layer is trained on our specific task.\n",
        "\n",
        "### Structure of Fine-Tuning Model\n",
        "\n",
        "As we've showed beforehand, the first token of every sequence is the special classification token ([CLS]). Unlike the hidden state vector corresponding to a normal word token, the hidden state corresponding to this special token is designated by the authors of BERT as an aggregate representation of the whole sentence used for classification tasks. As such, when we feed in an input sentence to our model during training, the output is the length 768 hidden state vector corresponding to this token. The additional layer that we've added on top consists of untrained linear neurons of size [hidden_state, number_of_labels], so [768,2], meaning that the output of BERT plus our classification layer is a vector of two numbers representing the \"score\" for \"grammatical/non-grammatical\" that are then fed into cross-entropy loss.\n",
        "\n",
        "\n",
        "\n",
        "### The Fine-Tuning Process\n",
        "\n",
        "Because the pre-trained BERT layers already encode a lot of information about the language, training the classifier is relatively inexpensive. Rather than training every layer in a large model from scratch, it's as if we have already trained the bottom layers 95% of where they need to be, and only really need to train the top layer, with a bit of tweaking going on in the lower levels to accomodate our task.\n",
        "\n",
        "Sometimes practicioners will opt to \"freeze\" certain layers when fine-tuning, or to apply different learning rates, apply diminishing learning rates, etc. all in an effort to preserve the good quality weights in the network and speed up training (often considerably). In fact, recent research on BERT specifically has demonstrated that freezing the majority of the weights results in only minimal accuracy declines, but there are exceptions and broader rules of transfer learning that should also be considered. For example, if your task and fine-tuning dataset is very different from the dataset used to train the transfer learning model, freezing the weights may not be a good idea. We'll cover the broader scope of transfer learning in NLP in a future post.  \n",
        "\n"
      ]
    },
    {
      "cell_type": "markdown",
      "metadata": {
        "id": "WnQW9E-bBCRt"
      },
      "source": [
        "OK, let's load BERT! There are a few different pre-trained BERT models available. \"bert-base-uncased\" means the version that has only lowercase letters (\"uncased\") and is the smaller version of the two (\"base\" vs \"large\")."
      ]
    },
    {
      "cell_type": "code",
      "execution_count": 19,
      "metadata": {
        "id": "gFsCTp_mporB",
        "colab": {
          "base_uri": "https://localhost:8080/"
        },
        "outputId": "862b1579-8020-45e5-d92e-ae66baeb14a5"
      },
      "outputs": [
        {
          "output_type": "stream",
          "name": "stderr",
          "text": [
            "100%|██████████| 407873900/407873900 [00:12<00:00, 33968400.63B/s]\n"
          ]
        },
        {
          "output_type": "execute_result",
          "data": {
            "text/plain": [
              "BertForSequenceClassification(\n",
              "  (bert): BertModel(\n",
              "    (embeddings): BertEmbeddings(\n",
              "      (word_embeddings): Embedding(30522, 768, padding_idx=0)\n",
              "      (position_embeddings): Embedding(512, 768)\n",
              "      (token_type_embeddings): Embedding(2, 768)\n",
              "      (LayerNorm): BertLayerNorm()\n",
              "      (dropout): Dropout(p=0.1, inplace=False)\n",
              "    )\n",
              "    (encoder): BertEncoder(\n",
              "      (layer): ModuleList(\n",
              "        (0-11): 12 x BertLayer(\n",
              "          (attention): BertAttention(\n",
              "            (self): BertSelfAttention(\n",
              "              (query): Linear(in_features=768, out_features=768, bias=True)\n",
              "              (key): Linear(in_features=768, out_features=768, bias=True)\n",
              "              (value): Linear(in_features=768, out_features=768, bias=True)\n",
              "              (dropout): Dropout(p=0.1, inplace=False)\n",
              "            )\n",
              "            (output): BertSelfOutput(\n",
              "              (dense): Linear(in_features=768, out_features=768, bias=True)\n",
              "              (LayerNorm): BertLayerNorm()\n",
              "              (dropout): Dropout(p=0.1, inplace=False)\n",
              "            )\n",
              "          )\n",
              "          (intermediate): BertIntermediate(\n",
              "            (dense): Linear(in_features=768, out_features=3072, bias=True)\n",
              "          )\n",
              "          (output): BertOutput(\n",
              "            (dense): Linear(in_features=3072, out_features=768, bias=True)\n",
              "            (LayerNorm): BertLayerNorm()\n",
              "            (dropout): Dropout(p=0.1, inplace=False)\n",
              "          )\n",
              "        )\n",
              "      )\n",
              "    )\n",
              "    (pooler): BertPooler(\n",
              "      (dense): Linear(in_features=768, out_features=768, bias=True)\n",
              "      (activation): Tanh()\n",
              "    )\n",
              "  )\n",
              "  (dropout): Dropout(p=0.1, inplace=False)\n",
              "  (classifier): Linear(in_features=768, out_features=2, bias=True)\n",
              ")"
            ]
          },
          "metadata": {},
          "execution_count": 19
        }
      ],
      "source": [
        "# Load BertForSequenceClassification, the pretrained BERT model with a single linear classification layer on top.\n",
        "\n",
        "model = BertForSequenceClassification.from_pretrained(\"bert-base-uncased\", num_labels=2)\n",
        "model.cuda()"
      ]
    },
    {
      "cell_type": "markdown",
      "metadata": {
        "id": "8o-VEBobKwHk"
      },
      "source": [
        "Now that we have our model loaded we need to grab the training hyperparameters from within the stored model.\n",
        "\n",
        "For the purposes of fine-tuning, the authors recommend the following hyperparameter ranges:\n",
        "- Batch size: 16, 32\n",
        "- Learning rate (Adam): 5e-5, 3e-5, 2e-5\n",
        "- Number of epochs: 2, 3, 4"
      ]
    },
    {
      "cell_type": "code",
      "execution_count": 20,
      "metadata": {
        "id": "QxSMw0FrptiL"
      },
      "outputs": [],
      "source": [
        "\n",
        "param_optimizer = list(model.named_parameters())\n",
        "no_decay = ['bias', 'gamma', 'beta']\n",
        "optimizer_grouped_parameters = [\n",
        "    {'params': [p for n, p in param_optimizer if not any(nd in n for nd in no_decay)],\n",
        "     'weight_decay_rate': 0.01},\n",
        "    {'params': [p for n, p in param_optimizer if any(nd in n for nd in no_decay)],\n",
        "     'weight_decay_rate': 0.0}\n",
        "]\n",
        "\n"
      ]
    },
    {
      "cell_type": "code",
      "execution_count": 21,
      "metadata": {
        "id": "GLs72DuMODJO",
        "colab": {
          "base_uri": "https://localhost:8080/"
        },
        "outputId": "1fe632c7-764e-4b0e-fdaf-e5a34f6d9d6a"
      },
      "outputs": [
        {
          "output_type": "stream",
          "name": "stderr",
          "text": [
            "WARNING:pytorch_pretrained_bert.optimization:t_total value of -1 results in schedule not being applied\n"
          ]
        }
      ],
      "source": [
        "# This variable contains all of the hyperparemeter information our training loop needs\n",
        "optimizer = BertAdam(optimizer_grouped_parameters,\n",
        "                     lr=2e-5,\n",
        "                     warmup=.1)"
      ]
    },
    {
      "cell_type": "markdown",
      "metadata": {
        "id": "_QXZhFb4LnV5"
      },
      "source": [
        "Below is our training loop. There's a lot going on, but fundamentally for each pass in our loop we have a trianing phase and a validation phase. At each pass we need to:\n",
        "\n",
        "Training loop:\n",
        "- Tell the model to compute gradients by setting the model in train mode\n",
        "- Unpack our data inputs and labels\n",
        "- Load data onto the GPU for acceleration\n",
        "- Clear out the gradients calculated in the previous pass. In pytorch the gradients accumulate by default (useful for things like RNNs) unless you explicitly clear them out\n",
        "- Forward pass (feed input data through the network)\n",
        "- Backward pass (backpropagation)\n",
        "- Tell the network to update parameters with optimizer.step()\n",
        "- Track variables for monitoring progress\n",
        "\n",
        "Evalution loop:\n",
        "- Tell the model not to compute gradients by setting th emodel in evaluation mode\n",
        "- Unpack our data inputs and labels\n",
        "- Load data onto the GPU for acceleration\n",
        "- Forward pass (feed input data through the network)\n",
        "- Compute loss on our validation data and track variables for monitoring progress\n",
        "\n",
        "So please read carefully through the comments to get an understanding of what's happening. If you're unfamiliar with pytorch a quick look at some of their [beginner tutorials](https://pytorch.org/tutorials/beginner/blitz/cifar10_tutorial.html#sphx-glr-beginner-blitz-cifar10-tutorial-py) will help show you that training loops really involve only a few simple steps; the rest is usually just decoration and logging.  "
      ]
    },
    {
      "cell_type": "code",
      "execution_count": 22,
      "metadata": {
        "id": "9cQNvaZ9bnyy"
      },
      "outputs": [],
      "source": [
        "# Function to calculate the accuracy of our predictions vs labels\n",
        "def flat_accuracy(preds, labels):\n",
        "    pred_flat = np.argmax(preds, axis=1).flatten()\n",
        "    labels_flat = labels.flatten()\n",
        "    return np.sum(pred_flat == labels_flat) / len(labels_flat)"
      ]
    },
    {
      "cell_type": "code",
      "execution_count": 29,
      "metadata": {
        "id": "6J-FYdx6nFE_",
        "colab": {
          "base_uri": "https://localhost:8080/"
        },
        "outputId": "357969a8-8f72-4984-8a3b-810a79ff7a58"
      },
      "outputs": [
        {
          "output_type": "stream",
          "name": "stderr",
          "text": [
            "\rEpoch:   0%|          | 0/4 [00:00<?, ?it/s]"
          ]
        },
        {
          "output_type": "stream",
          "name": "stdout",
          "text": [
            "Train loss: 0.05110280118598622\n"
          ]
        },
        {
          "output_type": "stream",
          "name": "stderr",
          "text": [
            "\rEpoch:  25%|██▌       | 1/4 [03:15<09:47, 195.84s/it]"
          ]
        },
        {
          "output_type": "stream",
          "name": "stdout",
          "text": [
            "Validation Accuracy: 0.8136574074074074\n",
            "Train loss: 0.042129094337105474\n"
          ]
        },
        {
          "output_type": "stream",
          "name": "stderr",
          "text": [
            "\rEpoch:  50%|█████     | 2/4 [06:29<06:28, 194.43s/it]"
          ]
        },
        {
          "output_type": "stream",
          "name": "stdout",
          "text": [
            "Validation Accuracy: 0.7993827160493827\n",
            "Train loss: 0.03164832996512682\n"
          ]
        },
        {
          "output_type": "stream",
          "name": "stderr",
          "text": [
            "\rEpoch:  75%|███████▌  | 3/4 [09:42<03:13, 193.98s/it]"
          ]
        },
        {
          "output_type": "stream",
          "name": "stdout",
          "text": [
            "Validation Accuracy: 0.8117283950617284\n",
            "Train loss: 0.025829354577400255\n"
          ]
        },
        {
          "output_type": "stream",
          "name": "stderr",
          "text": [
            "Epoch: 100%|██████████| 4/4 [12:55<00:00, 193.96s/it]"
          ]
        },
        {
          "output_type": "stream",
          "name": "stdout",
          "text": [
            "Validation Accuracy: 0.8067129629629629\n"
          ]
        },
        {
          "output_type": "stream",
          "name": "stderr",
          "text": [
            "\n"
          ]
        }
      ],
      "source": [
        "t = []\n",
        "\n",
        "# Store our loss and accuracy for plotting\n",
        "train_loss_set = []\n",
        "\n",
        "train_accuracy_set = []\n",
        "\n",
        "# Number of training epochs (authors recommend between 2 and 4)\n",
        "epochs = 4\n",
        "\n",
        "# trange is a tqdm wrapper around the normal python range\n",
        "for _ in trange(epochs, desc=\"Epoch\"):\n",
        "\n",
        "\n",
        "  # Training\n",
        "\n",
        "  # Set our model to training mode (as opposed to evaluation mode)\n",
        "  model.train()\n",
        "\n",
        "  # Tracking variables\n",
        "  tr_loss = 0\n",
        "  nb_tr_examples, nb_tr_steps = 0, 0\n",
        "\n",
        "  # Train the data for one epoch\n",
        "  for step, batch in enumerate(train_dataloader):\n",
        "    # Add batch to GPU\n",
        "    batch = tuple(t.to(device) for t in batch)\n",
        "    # Unpack the inputs from our dataloader\n",
        "    b_input_ids, b_input_mask, b_labels = batch\n",
        "    # Clear out the gradients (by default they accumulate)\n",
        "    optimizer.zero_grad()\n",
        "    # Forward pass\n",
        "    loss = model(b_input_ids, token_type_ids=None, attention_mask=b_input_mask, labels=b_labels)\n",
        "    train_loss_set.append(loss.item())\n",
        "    # Backward pass\n",
        "    loss.backward()\n",
        "    # Update parameters and take a step using the computed gradient\n",
        "    optimizer.step()\n",
        "\n",
        "\n",
        "    # Update tracking variables\n",
        "    tr_loss += loss.item()\n",
        "    nb_tr_examples += b_input_ids.size(0)\n",
        "    nb_tr_steps += 1\n",
        "\n",
        "  print(\"Train loss: {}\".format(tr_loss/nb_tr_steps))\n",
        "\n",
        "\n",
        "  # Validation\n",
        "\n",
        "  # Put model in evaluation mode to evaluate loss on the validation set\n",
        "  model.eval()\n",
        "\n",
        "  # Tracking variables\n",
        "  eval_loss, eval_accuracy = 0, 0\n",
        "  nb_eval_steps, nb_eval_examples = 0, 0\n",
        "\n",
        "  # Evaluate data for one epoch\n",
        "  for batch in validation_dataloader:\n",
        "    # Add batch to GPU\n",
        "    batch = tuple(t.to(device) for t in batch)\n",
        "    # Unpack the inputs from our dataloader\n",
        "    b_input_ids, b_input_mask, b_labels = batch\n",
        "    # Telling the model not to compute or store gradients, saving memory and speeding up validation\n",
        "    with torch.no_grad():\n",
        "      # Forward pass, calculate logit predictions\n",
        "      logits = model(b_input_ids, token_type_ids=None, attention_mask=b_input_mask)\n",
        "\n",
        "    # Move logits and labels to CPU\n",
        "    logits = logits.detach().cpu().numpy()\n",
        "    label_ids = b_labels.to('cpu').numpy()\n",
        "\n",
        "    tmp_eval_accuracy = flat_accuracy(logits, label_ids)\n",
        "\n",
        "    eval_accuracy += tmp_eval_accuracy\n",
        "    train_accuracy_set.append(tmp_eval_accuracy)\n",
        "    nb_eval_steps += 1\n",
        "\n",
        "  print(\"Validation Accuracy: {}\".format(eval_accuracy/nb_eval_steps))"
      ]
    },
    {
      "cell_type": "markdown",
      "metadata": {
        "id": "QCKEPtMIKgHI"
      },
      "source": [
        "\n",
        "\n",
        "---\n",
        "\n",
        "\n",
        "\n",
        "---\n",
        "## Frage: Was beschreibt Loss? Was beschreibt Accuracy?\n",
        "\n",
        "---\n",
        "\n",
        "\n",
        "\n",
        "---\n",
        "\n",
        "\n"
      ]
    },
    {
      "cell_type": "markdown",
      "metadata": {
        "id": "iyRa-5CcHv_g"
      },
      "source": [
        "## Training Evaluation"
      ]
    },
    {
      "cell_type": "markdown",
      "metadata": {
        "id": "1-G03mmwH3aI"
      },
      "source": [
        "Let's take a look at our training loss over all batches:"
      ]
    },
    {
      "cell_type": "code",
      "execution_count": 31,
      "metadata": {
        "id": "68xreA9JAmG5",
        "colab": {
          "base_uri": "https://localhost:8080/",
          "height": 957
        },
        "outputId": "bcc4cd20-7daf-49d4-82df-537005d79c68"
      },
      "outputs": [
        {
          "output_type": "display_data",
          "data": {
            "text/plain": [
              "<Figure size 1000x500 with 1 Axes>"
            ],
            "image/png": "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\n"
          },
          "metadata": {}
        },
        {
          "output_type": "display_data",
          "data": {
            "text/plain": [
              "<Figure size 1000x500 with 1 Axes>"
            ],
            "image/png": "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\n"
          },
          "metadata": {}
        }
      ],
      "source": [
        "import matplotlib.pyplot as plt\n",
        "\n",
        "# Plotting the training loss\n",
        "plt.figure(figsize=(10, 5))\n",
        "plt.plot(train_loss_set, label='Training Loss')\n",
        "plt.xlabel('Training Steps')\n",
        "plt.ylabel('Loss')\n",
        "plt.title('Training Loss over Steps')\n",
        "plt.legend()\n",
        "plt.show()\n",
        "\n",
        "# Assuming you have a list to store validation accuracy for each epoch\n",
        "# val_accuracy_set = [acc_epoch1, acc_epoch2, ..., acc_epoch4]\n",
        "# If not, you should create a list to store these values during validation\n",
        "\n",
        "# Plotting the validation accuracy\n",
        "plt.figure(figsize=(10, 5))\n",
        "plt.plot(train_accuracy_set, label='Validation Accuracy', marker='o')\n",
        "plt.xlabel('Epochs')\n",
        "plt.ylabel('Accuracy')\n",
        "plt.title('Validation Accuracy over Epochs')\n",
        "plt.legend()\n",
        "plt.show()\n"
      ]
    },
    {
      "cell_type": "markdown",
      "metadata": {
        "id": "Q74LHa6iK1ya"
      },
      "source": [
        "\n",
        "\n",
        "---\n",
        "\n",
        "\n",
        "\n",
        "---\n",
        "## Aufgabe: Lassen Sie sich eine Grafik ausgeben, die den Verlauf der Accuracy-Werte zeigt.\n",
        "\n",
        "---\n",
        "\n",
        "\n",
        "\n",
        "---\n"
      ]
    },
    {
      "cell_type": "markdown",
      "metadata": {
        "id": "mkyubuJSOzg3"
      },
      "source": [
        "##Predict and Evaluate on Holdout Set"
      ]
    },
    {
      "cell_type": "markdown",
      "metadata": {
        "id": "DosV94BYIYxg"
      },
      "source": [
        "Now we'll load the holdout dataset and prepare inputs just as we did with the training set. Then we'll evaluate predictions using [Matthew's correlation coefficient](https://scikit-learn.org/stable/modules/generated/sklearn.metrics.matthews_corrcoef.html) because this is the metric used by the wider NLP community to evaluate performance on CoLA. With this metric, +1 is the best score, and -1 is the worst score. This way, we can see how well we perform against the state of the art models for this specific task."
      ]
    },
    {
      "cell_type": "markdown",
      "metadata": {
        "id": "LVNTY7lcXrZF"
      },
      "source": [
        "\n",
        "\n",
        "---\n",
        "\n",
        "\n",
        "\n",
        "---\n",
        "## Hier bitte folgende Datei hochladen:![Bert step 10.2.png](data:image/png;base64,iVBORw0KGgoAAAANSUhEUgAAAJUAAAAWCAYAAADJht45AAAAAXNSR0IArs4c6QAAAARnQU1BAACxjwv8YQUAAAAJcEhZcwAADsMAAA7DAcdvqGQAAARoSURBVGhD7Zm/b9tGFMe/+gE4Q5z+CYZTKoOhLs1GwWsKyQjiSWjQwZs0yos3j968UKO1ZfUkFHbkDCkMA9bkUfBgakj/gbiD2/iHLPa94x11okmKjeRURe8DU7xf793j6d27RyvjETAYZkhW3g2GmWGcyjBzjFMZZk5sTnV1dYXBYAC9Wy/n8nksPn2KbNb4pWGcWKc6OTmBZVnCkcQAvsuRd4M7/P7pE5aXl7G0tIRMJuN3GAxErFMdHx9jdXUVwyE7FQ8hx5EONri7heu61JTB4uIivn/+XMgYDEzs2TUcDoPIJNAr5EyXl3/gTzoiz87OqCvSLw3/U2KdyncULUqJmv+Zy+Xw48uXKBZ/wLNn34nWuaRTF0dzptREXzYl00E9U0Iz3eDp6DdRmtlc39DuFCQ6lXAi4VuyLD/pa8LCwgIWnjx5xHxq2oUi+UoLtfdk+2kDlmydG6wGTr1TNObKsNk4Z/zxx5HK/5OuJJFtwac3FPf5xMZKQRYN34z4/wfoeZI8CnWHUt36sFhEqKf4Jq96R7Y/2BmqzvcKWuhis0AyI4GHROoely8lbT1NvtS8kI2SSXZ3Rv3c12+WgrH6nJ36SMfoWfRnl+WmPK5D8pGktrtO2vtolnT7CU4NxtKCqDX35ZRN9U4aPQS//UVxdHTk3d7eetc3N9719Y33Jbiuvb+++BeXDw4PPUrqpVQU770aTUPHkI/reDZsz3G5wn2qzOj1cF8U/0R3FOPyrmPTFtHlk3TTzrIdz6/WeGt5tppM1Gs0KoxuU7hM+tRksfKKcdse2q3KXK35drHO4GG4qj1bwENZXUaQQk/i8SdWij747jOKUIzo0+qR9C/QQw3rZVmnXGK71sW5K+vTMK1ulrcdbEl5q7FN2iQTddtw3slcrbxOI21U12SCJOo9XKjtq14YRCSIg/QpQ8LyYSbaLaMNz0l5ZZeNZp2tNsUjpoN2byQfS2EFdqsyHjVT6El++9MdhurjDuVX5junmgP4KKoAtJlprVw4tmx/VGpyPnnt8bdexpbTww45SL+5g151bfLLi3iZ8PAOG/L448bJehJzKnabwDC/VTrXyLs0P4vGeoEi7c+2OodpkXdaKgIUsGJru7/TTtjJESTqTgHLdzexK+V5kYL5p9WtcM/RtVfoSYn+Ifa7onU6UtjNX3oYa60K7O9id7+I7eC1U8/torEap6AjFj0ZOqP1jEg4/mQhIORcEt3Boiljz3XQq8hwXNhH1d2jVsZCY7uGlupr8x5TlLFOx01yop6kOw0kT0mBmn8D1bH5p9MtKW/BwSYKrGPjHMWZRKrJdtPC+XbzpdbPWqORLbSK6zHPEVrz4NjOoLCpOdAEPbE/0/x6cICfXr2CJ36miYbmwtGHD3jz+rWY2GBgYp3q48ffkM1l/egUXByZhsLJVNvnz5f45e3PvtCjoV53dThvSBs5ppX/t/hv2h3rVPf3936Eiu4eI5/Py5LBkOBUBsPXEv/2ZzB8FcDfgrojeHpt4lgAAAAASUVORK5CYII=)\n",
        "\n",
        "\n",
        "---\n",
        "\n",
        "\n",
        "\n",
        "---\n",
        "\n"
      ]
    },
    {
      "cell_type": "code",
      "execution_count": 30,
      "metadata": {
        "id": "NyBuXVGoOLQf",
        "colab": {
          "base_uri": "https://localhost:8080/",
          "height": 376
        },
        "outputId": "d7742fbc-bb98-40b5-afe2-145629369c36"
      },
      "outputs": [
        {
          "output_type": "display_data",
          "data": {
            "text/plain": [
              "<IPython.core.display.HTML object>"
            ],
            "text/html": [
              "\n",
              "     <input type=\"file\" id=\"files-6320b1b9-03b4-4787-8821-9f237fe772b8\" name=\"files[]\" multiple disabled\n",
              "        style=\"border:none\" />\n",
              "     <output id=\"result-6320b1b9-03b4-4787-8821-9f237fe772b8\">\n",
              "      Upload widget is only available when the cell has been executed in the\n",
              "      current browser session. Please rerun this cell to enable.\n",
              "      </output>\n",
              "      <script>// Copyright 2017 Google LLC\n",
              "//\n",
              "// Licensed under the Apache License, Version 2.0 (the \"License\");\n",
              "// you may not use this file except in compliance with the License.\n",
              "// You may obtain a copy of the License at\n",
              "//\n",
              "//      http://www.apache.org/licenses/LICENSE-2.0\n",
              "//\n",
              "// Unless required by applicable law or agreed to in writing, software\n",
              "// distributed under the License is distributed on an \"AS IS\" BASIS,\n",
              "// WITHOUT WARRANTIES OR CONDITIONS OF ANY KIND, either express or implied.\n",
              "// See the License for the specific language governing permissions and\n",
              "// limitations under the License.\n",
              "\n",
              "/**\n",
              " * @fileoverview Helpers for google.colab Python module.\n",
              " */\n",
              "(function(scope) {\n",
              "function span(text, styleAttributes = {}) {\n",
              "  const element = document.createElement('span');\n",
              "  element.textContent = text;\n",
              "  for (const key of Object.keys(styleAttributes)) {\n",
              "    element.style[key] = styleAttributes[key];\n",
              "  }\n",
              "  return element;\n",
              "}\n",
              "\n",
              "// Max number of bytes which will be uploaded at a time.\n",
              "const MAX_PAYLOAD_SIZE = 100 * 1024;\n",
              "\n",
              "function _uploadFiles(inputId, outputId) {\n",
              "  const steps = uploadFilesStep(inputId, outputId);\n",
              "  const outputElement = document.getElementById(outputId);\n",
              "  // Cache steps on the outputElement to make it available for the next call\n",
              "  // to uploadFilesContinue from Python.\n",
              "  outputElement.steps = steps;\n",
              "\n",
              "  return _uploadFilesContinue(outputId);\n",
              "}\n",
              "\n",
              "// This is roughly an async generator (not supported in the browser yet),\n",
              "// where there are multiple asynchronous steps and the Python side is going\n",
              "// to poll for completion of each step.\n",
              "// This uses a Promise to block the python side on completion of each step,\n",
              "// then passes the result of the previous step as the input to the next step.\n",
              "function _uploadFilesContinue(outputId) {\n",
              "  const outputElement = document.getElementById(outputId);\n",
              "  const steps = outputElement.steps;\n",
              "\n",
              "  const next = steps.next(outputElement.lastPromiseValue);\n",
              "  return Promise.resolve(next.value.promise).then((value) => {\n",
              "    // Cache the last promise value to make it available to the next\n",
              "    // step of the generator.\n",
              "    outputElement.lastPromiseValue = value;\n",
              "    return next.value.response;\n",
              "  });\n",
              "}\n",
              "\n",
              "/**\n",
              " * Generator function which is called between each async step of the upload\n",
              " * process.\n",
              " * @param {string} inputId Element ID of the input file picker element.\n",
              " * @param {string} outputId Element ID of the output display.\n",
              " * @return {!Iterable<!Object>} Iterable of next steps.\n",
              " */\n",
              "function* uploadFilesStep(inputId, outputId) {\n",
              "  const inputElement = document.getElementById(inputId);\n",
              "  inputElement.disabled = false;\n",
              "\n",
              "  const outputElement = document.getElementById(outputId);\n",
              "  outputElement.innerHTML = '';\n",
              "\n",
              "  const pickedPromise = new Promise((resolve) => {\n",
              "    inputElement.addEventListener('change', (e) => {\n",
              "      resolve(e.target.files);\n",
              "    });\n",
              "  });\n",
              "\n",
              "  const cancel = document.createElement('button');\n",
              "  inputElement.parentElement.appendChild(cancel);\n",
              "  cancel.textContent = 'Cancel upload';\n",
              "  const cancelPromise = new Promise((resolve) => {\n",
              "    cancel.onclick = () => {\n",
              "      resolve(null);\n",
              "    };\n",
              "  });\n",
              "\n",
              "  // Wait for the user to pick the files.\n",
              "  const files = yield {\n",
              "    promise: Promise.race([pickedPromise, cancelPromise]),\n",
              "    response: {\n",
              "      action: 'starting',\n",
              "    }\n",
              "  };\n",
              "\n",
              "  cancel.remove();\n",
              "\n",
              "  // Disable the input element since further picks are not allowed.\n",
              "  inputElement.disabled = true;\n",
              "\n",
              "  if (!files) {\n",
              "    return {\n",
              "      response: {\n",
              "        action: 'complete',\n",
              "      }\n",
              "    };\n",
              "  }\n",
              "\n",
              "  for (const file of files) {\n",
              "    const li = document.createElement('li');\n",
              "    li.append(span(file.name, {fontWeight: 'bold'}));\n",
              "    li.append(span(\n",
              "        `(${file.type || 'n/a'}) - ${file.size} bytes, ` +\n",
              "        `last modified: ${\n",
              "            file.lastModifiedDate ? file.lastModifiedDate.toLocaleDateString() :\n",
              "                                    'n/a'} - `));\n",
              "    const percent = span('0% done');\n",
              "    li.appendChild(percent);\n",
              "\n",
              "    outputElement.appendChild(li);\n",
              "\n",
              "    const fileDataPromise = new Promise((resolve) => {\n",
              "      const reader = new FileReader();\n",
              "      reader.onload = (e) => {\n",
              "        resolve(e.target.result);\n",
              "      };\n",
              "      reader.readAsArrayBuffer(file);\n",
              "    });\n",
              "    // Wait for the data to be ready.\n",
              "    let fileData = yield {\n",
              "      promise: fileDataPromise,\n",
              "      response: {\n",
              "        action: 'continue',\n",
              "      }\n",
              "    };\n",
              "\n",
              "    // Use a chunked sending to avoid message size limits. See b/62115660.\n",
              "    let position = 0;\n",
              "    do {\n",
              "      const length = Math.min(fileData.byteLength - position, MAX_PAYLOAD_SIZE);\n",
              "      const chunk = new Uint8Array(fileData, position, length);\n",
              "      position += length;\n",
              "\n",
              "      const base64 = btoa(String.fromCharCode.apply(null, chunk));\n",
              "      yield {\n",
              "        response: {\n",
              "          action: 'append',\n",
              "          file: file.name,\n",
              "          data: base64,\n",
              "        },\n",
              "      };\n",
              "\n",
              "      let percentDone = fileData.byteLength === 0 ?\n",
              "          100 :\n",
              "          Math.round((position / fileData.byteLength) * 100);\n",
              "      percent.textContent = `${percentDone}% done`;\n",
              "\n",
              "    } while (position < fileData.byteLength);\n",
              "  }\n",
              "\n",
              "  // All done.\n",
              "  yield {\n",
              "    response: {\n",
              "      action: 'complete',\n",
              "    }\n",
              "  };\n",
              "}\n",
              "\n",
              "scope.google = scope.google || {};\n",
              "scope.google.colab = scope.google.colab || {};\n",
              "scope.google.colab._files = {\n",
              "  _uploadFiles,\n",
              "  _uploadFilesContinue,\n",
              "};\n",
              "})(self);\n",
              "</script> "
            ]
          },
          "metadata": {}
        },
        {
          "output_type": "error",
          "ename": "KeyboardInterrupt",
          "evalue": "ignored",
          "traceback": [
            "\u001b[0;31m---------------------------------------------------------------------------\u001b[0m",
            "\u001b[0;31mKeyboardInterrupt\u001b[0m                         Traceback (most recent call last)",
            "\u001b[0;32m<ipython-input-30-7c1caed571cf>\u001b[0m in \u001b[0;36m<cell line: 3>\u001b[0;34m()\u001b[0m\n\u001b[1;32m      1\u001b[0m \u001b[0;31m# Upload the test file from your local drive\u001b[0m\u001b[0;34m\u001b[0m\u001b[0;34m\u001b[0m\u001b[0m\n\u001b[1;32m      2\u001b[0m \u001b[0;32mfrom\u001b[0m \u001b[0mgoogle\u001b[0m\u001b[0;34m.\u001b[0m\u001b[0mcolab\u001b[0m \u001b[0;32mimport\u001b[0m \u001b[0mfiles\u001b[0m\u001b[0;34m\u001b[0m\u001b[0;34m\u001b[0m\u001b[0m\n\u001b[0;32m----> 3\u001b[0;31m \u001b[0muploaded\u001b[0m \u001b[0;34m=\u001b[0m \u001b[0mfiles\u001b[0m\u001b[0;34m.\u001b[0m\u001b[0mupload\u001b[0m\u001b[0;34m(\u001b[0m\u001b[0;34m)\u001b[0m\u001b[0;34m\u001b[0m\u001b[0;34m\u001b[0m\u001b[0m\n\u001b[0m",
            "\u001b[0;32m/usr/local/lib/python3.10/dist-packages/google/colab/files.py\u001b[0m in \u001b[0;36mupload\u001b[0;34m()\u001b[0m\n\u001b[1;32m     67\u001b[0m   \"\"\"\n\u001b[1;32m     68\u001b[0m \u001b[0;34m\u001b[0m\u001b[0m\n\u001b[0;32m---> 69\u001b[0;31m   \u001b[0muploaded_files\u001b[0m \u001b[0;34m=\u001b[0m \u001b[0m_upload_files\u001b[0m\u001b[0;34m(\u001b[0m\u001b[0mmultiple\u001b[0m\u001b[0;34m=\u001b[0m\u001b[0;32mTrue\u001b[0m\u001b[0;34m)\u001b[0m\u001b[0;34m\u001b[0m\u001b[0;34m\u001b[0m\u001b[0m\n\u001b[0m\u001b[1;32m     70\u001b[0m   \u001b[0;31m# Mapping from original filename to filename as saved locally.\u001b[0m\u001b[0;34m\u001b[0m\u001b[0;34m\u001b[0m\u001b[0m\n\u001b[1;32m     71\u001b[0m   \u001b[0mlocal_filenames\u001b[0m \u001b[0;34m=\u001b[0m \u001b[0mdict\u001b[0m\u001b[0;34m(\u001b[0m\u001b[0;34m)\u001b[0m\u001b[0;34m\u001b[0m\u001b[0;34m\u001b[0m\u001b[0m\n",
            "\u001b[0;32m/usr/local/lib/python3.10/dist-packages/google/colab/files.py\u001b[0m in \u001b[0;36m_upload_files\u001b[0;34m(multiple)\u001b[0m\n\u001b[1;32m    154\u001b[0m \u001b[0;34m\u001b[0m\u001b[0m\n\u001b[1;32m    155\u001b[0m   \u001b[0;31m# First result is always an indication that the file picker has completed.\u001b[0m\u001b[0;34m\u001b[0m\u001b[0;34m\u001b[0m\u001b[0m\n\u001b[0;32m--> 156\u001b[0;31m   result = _output.eval_js(\n\u001b[0m\u001b[1;32m    157\u001b[0m       'google.colab._files._uploadFiles(\"{input_id}\", \"{output_id}\")'.format(\n\u001b[1;32m    158\u001b[0m           \u001b[0minput_id\u001b[0m\u001b[0;34m=\u001b[0m\u001b[0minput_id\u001b[0m\u001b[0;34m,\u001b[0m \u001b[0moutput_id\u001b[0m\u001b[0;34m=\u001b[0m\u001b[0moutput_id\u001b[0m\u001b[0;34m\u001b[0m\u001b[0;34m\u001b[0m\u001b[0m\n",
            "\u001b[0;32m/usr/local/lib/python3.10/dist-packages/google/colab/output/_js.py\u001b[0m in \u001b[0;36meval_js\u001b[0;34m(script, ignore_result, timeout_sec)\u001b[0m\n\u001b[1;32m     38\u001b[0m   \u001b[0;32mif\u001b[0m \u001b[0mignore_result\u001b[0m\u001b[0;34m:\u001b[0m\u001b[0;34m\u001b[0m\u001b[0;34m\u001b[0m\u001b[0m\n\u001b[1;32m     39\u001b[0m     \u001b[0;32mreturn\u001b[0m\u001b[0;34m\u001b[0m\u001b[0;34m\u001b[0m\u001b[0m\n\u001b[0;32m---> 40\u001b[0;31m   \u001b[0;32mreturn\u001b[0m \u001b[0m_message\u001b[0m\u001b[0;34m.\u001b[0m\u001b[0mread_reply_from_input\u001b[0m\u001b[0;34m(\u001b[0m\u001b[0mrequest_id\u001b[0m\u001b[0;34m,\u001b[0m \u001b[0mtimeout_sec\u001b[0m\u001b[0;34m)\u001b[0m\u001b[0;34m\u001b[0m\u001b[0;34m\u001b[0m\u001b[0m\n\u001b[0m\u001b[1;32m     41\u001b[0m \u001b[0;34m\u001b[0m\u001b[0m\n\u001b[1;32m     42\u001b[0m \u001b[0;34m\u001b[0m\u001b[0m\n",
            "\u001b[0;32m/usr/local/lib/python3.10/dist-packages/google/colab/_message.py\u001b[0m in \u001b[0;36mread_reply_from_input\u001b[0;34m(message_id, timeout_sec)\u001b[0m\n\u001b[1;32m     94\u001b[0m     \u001b[0mreply\u001b[0m \u001b[0;34m=\u001b[0m \u001b[0m_read_next_input_message\u001b[0m\u001b[0;34m(\u001b[0m\u001b[0;34m)\u001b[0m\u001b[0;34m\u001b[0m\u001b[0;34m\u001b[0m\u001b[0m\n\u001b[1;32m     95\u001b[0m     \u001b[0;32mif\u001b[0m \u001b[0mreply\u001b[0m \u001b[0;34m==\u001b[0m \u001b[0m_NOT_READY\u001b[0m \u001b[0;32mor\u001b[0m \u001b[0;32mnot\u001b[0m \u001b[0misinstance\u001b[0m\u001b[0;34m(\u001b[0m\u001b[0mreply\u001b[0m\u001b[0;34m,\u001b[0m \u001b[0mdict\u001b[0m\u001b[0;34m)\u001b[0m\u001b[0;34m:\u001b[0m\u001b[0;34m\u001b[0m\u001b[0;34m\u001b[0m\u001b[0m\n\u001b[0;32m---> 96\u001b[0;31m       \u001b[0mtime\u001b[0m\u001b[0;34m.\u001b[0m\u001b[0msleep\u001b[0m\u001b[0;34m(\u001b[0m\u001b[0;36m0.025\u001b[0m\u001b[0;34m)\u001b[0m\u001b[0;34m\u001b[0m\u001b[0;34m\u001b[0m\u001b[0m\n\u001b[0m\u001b[1;32m     97\u001b[0m       \u001b[0;32mcontinue\u001b[0m\u001b[0;34m\u001b[0m\u001b[0;34m\u001b[0m\u001b[0m\n\u001b[1;32m     98\u001b[0m     if (\n",
            "\u001b[0;31mKeyboardInterrupt\u001b[0m: "
          ]
        }
      ],
      "source": [
        "# Upload the test file from your local drive\n",
        "from google.colab import files\n",
        "uploaded = files.upload()\n"
      ]
    },
    {
      "cell_type": "code",
      "execution_count": null,
      "metadata": {
        "id": "mAN0LZBOOPVh"
      },
      "outputs": [],
      "source": [
        "df = pd.read_csv(\"out_of_domain_dev.tsv\", delimiter='\\t', header=None, names=['sentence_source', 'label', 'label_notes', 'sentence'])\n",
        "\n",
        "# Create sentence and label lists\n",
        "sentences = df.sentence.values\n",
        "\n",
        "# We need to add special tokens at the beginning and end of each sentence for BERT to work properly\n",
        "sentences = [\"[CLS] \" + sentence + \" [SEP]\" for sentence in sentences]\n",
        "labels = df.label.values\n",
        "\n",
        "tokenized_texts = [tokenizer.tokenize(sent) for sent in sentences]\n",
        "\n",
        "\n",
        "MAX_LEN = 128\n",
        "\n",
        "# Use the BERT tokenizer to convert the tokens to their index numbers in the BERT vocabulary\n",
        "input_ids = [tokenizer.convert_tokens_to_ids(x) for x in tokenized_texts]\n",
        "# Pad our input tokens\n",
        "input_ids = pad_sequences(input_ids, maxlen=MAX_LEN, dtype=\"long\", truncating=\"post\", padding=\"post\")\n",
        "# Create attention masks\n",
        "attention_masks = []\n",
        "\n",
        "# Create a mask of 1s for each token followed by 0s for padding\n",
        "for seq in input_ids:\n",
        "  seq_mask = [float(i>0) for i in seq]\n",
        "  attention_masks.append(seq_mask)\n",
        "\n",
        "prediction_inputs = torch.tensor(input_ids)\n",
        "prediction_masks = torch.tensor(attention_masks)\n",
        "prediction_labels = torch.tensor(labels)\n",
        "\n",
        "batch_size = 32\n",
        "\n",
        "\n",
        "prediction_data = TensorDataset(prediction_inputs, prediction_masks, prediction_labels)\n",
        "prediction_sampler = SequentialSampler(prediction_data)\n",
        "prediction_dataloader = DataLoader(prediction_data, sampler=prediction_sampler, batch_size=batch_size)"
      ]
    },
    {
      "cell_type": "code",
      "execution_count": null,
      "metadata": {
        "id": "Hba10sXR7Xi6"
      },
      "outputs": [],
      "source": [
        "# Prediction on test set\n",
        "\n",
        "# Put model in evaluation mode\n",
        "model.eval()\n",
        "\n",
        "# Tracking variables\n",
        "predictions , true_labels = [], []\n",
        "\n",
        "# Predict\n",
        "for batch in prediction_dataloader:\n",
        "  # Add batch to GPU\n",
        "  batch = tuple(t.to(device) for t in batch)\n",
        "  # Unpack the inputs from our dataloader\n",
        "  b_input_ids, b_input_mask, b_labels = batch\n",
        "  # Telling the model not to compute or store gradients, saving memory and speeding up prediction\n",
        "  with torch.no_grad():\n",
        "    # Forward pass, calculate logit predictions\n",
        "    logits = model(b_input_ids, token_type_ids=None, attention_mask=b_input_mask)\n",
        "\n",
        "  # Move logits and labels to CPU\n",
        "  logits = logits.detach().cpu().numpy()\n",
        "  label_ids = b_labels.to('cpu').numpy()\n",
        "\n",
        "  # Store predictions and true labels\n",
        "  predictions.append(logits)\n",
        "  true_labels.append(label_ids)"
      ]
    },
    {
      "cell_type": "code",
      "execution_count": null,
      "metadata": {
        "id": "cRaZQ4XC7kLs"
      },
      "outputs": [],
      "source": [
        "# Import and evaluate each test batch using Matthew's correlation coefficient\n",
        "from sklearn.metrics import matthews_corrcoef\n",
        "matthews_set = []\n",
        "\n",
        "for i in range(len(true_labels)):\n",
        "  matthews = matthews_corrcoef(true_labels[i],\n",
        "                 np.argmax(predictions[i], axis=1).flatten())\n",
        "  matthews_set.append(matthews)"
      ]
    },
    {
      "cell_type": "markdown",
      "metadata": {
        "id": "IUM0UA1qJaVB"
      },
      "source": [
        "The final score will be based on the entire test set, but let's take a look at the scores on the individual batches to get a sense of the variability in the metric between batches.\n"
      ]
    },
    {
      "cell_type": "code",
      "execution_count": null,
      "metadata": {
        "id": "xytAr_C48wnu"
      },
      "outputs": [],
      "source": [
        "matthews_set"
      ]
    },
    {
      "cell_type": "code",
      "execution_count": null,
      "metadata": {
        "id": "oCYZa1lQ8Jn8"
      },
      "outputs": [],
      "source": [
        "# Flatten the predictions and true values for aggregate Matthew's evaluation on the whole dataset\n",
        "flat_predictions = [item for sublist in predictions for item in sublist]\n",
        "flat_predictions = np.argmax(flat_predictions, axis=1).flatten()\n",
        "flat_true_labels = [item for sublist in true_labels for item in sublist]\n"
      ]
    },
    {
      "cell_type": "code",
      "execution_count": null,
      "metadata": {
        "id": "p-4EBZ8D8VsZ"
      },
      "outputs": [],
      "source": [
        "matthews_corrcoef(flat_true_labels, flat_predictions)"
      ]
    },
    {
      "cell_type": "markdown",
      "metadata": {
        "id": "jXx0jPc4HUfZ"
      },
      "source": [
        "Cool! In about half an hour and without doing any hyperparameter tuning (adjusting the learning rate, epochs, batch size, ADAM properties, etc.) we are able to get a good score. I should also mention we didn't train on the entire training dataset, but set aside a portion of it as our validation set for legibililty of code.\n",
        "\n",
        "If you look at the leaderboard [here](https://gluebenchmark.com/leaderboard/submission/zlssuBTm5XRs0aSKbFYGVIVdvbj1/-LhijX9VVmvJcvzKymxy), you'll see that our score (54) using the small version of BERT actually slightly outperforms the BERT authors' CoLA score (52) with the same model. If you wanted to tune the hyperparameters, use the entire train set, or use the larger BERT model instead you're likely able to push that score up higher into the mid- 60s, which looks like the state of the art as of July 2019!\n"
      ]
    },
    {
      "cell_type": "markdown",
      "metadata": {
        "id": "GfjYoa6WmkN6"
      },
      "source": [
        "## Conclusion"
      ]
    },
    {
      "cell_type": "markdown",
      "metadata": {
        "id": "xlQG7qgkmf4n"
      },
      "source": [
        "This post demonstrate that with a pre-trained BERT model you can quickly and effectively create a high quality model with minimal effort and training time using the pytorch interface, regardless of the specific NLP task you are interested in."
      ]
    }
  ],
  "metadata": {
    "colab": {
      "name": "BERT_notebook_Beispiel.ipynb",
      "provenance": [],
      "gpuType": "T4"
    },
    "kernelspec": {
      "display_name": "Python 3",
      "name": "python3"
    },
    "language_info": {
      "codemirror_mode": {
        "name": "ipython",
        "version": 3
      },
      "file_extension": ".py",
      "mimetype": "text/x-python",
      "name": "python",
      "nbconvert_exporter": "python",
      "pygments_lexer": "ipython3",
<<<<<<< HEAD
      "version": "3.9.2"
    }
=======
      "version": "3.11.3"
    },
    "accelerator": "GPU"
>>>>>>> 2bd213b573c8e4b61b98f3c161d25151f0b1c63a
  },
  "nbformat": 4,
  "nbformat_minor": 0
}