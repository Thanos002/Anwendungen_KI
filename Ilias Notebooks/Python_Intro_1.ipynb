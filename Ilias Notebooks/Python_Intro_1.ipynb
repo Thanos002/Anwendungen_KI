{
 "cells": [
  {
   "cell_type": "markdown",
   "metadata": {},
   "source": [
    "Intro\n",
    "====\n",
    "\n",
    "This Jupyter notebook will introduce you to\n",
    "\n",
    "* the basic operation of a Jupyter notebook\n",
    "* some nice features of the Python programming language\n",
    "* a helpful mindset of how to approach programming tasks (in Python)\n",
    "\n",
    "If you're completely unfamiliar with programming languages the contents below will probably overwhelm you. If this is the case, try the *Extended Intro* notebook and/or search the web for a general introduction to Python."
   ]
  },
  {
   "cell_type": "markdown",
   "metadata": {},
   "source": [
    "Jupyter basics\n",
    "---------------------\n",
    "\n",
    "A Jupyter notebook is composed of cells. For our purposes, there are two relevant types of cells:\n",
    "\n",
    "* [Python](https://en.wikipedia.org/wiki/Python_(programming_language))\n",
    "* [Markdown](https://en.wikipedia.org/wiki/Markdown)\n",
    "\n",
    "This text is in a Markdown cell. If you double-click into the cell it will reveal the markdown and become editable.\n",
    "\n",
    "<!-- By the way: you can use HTML in Mardkown. This is an HTML comment and therefore not visible when renderd. -->"
   ]
  },
  {
   "cell_type": "code",
   "execution_count": 102,
   "metadata": {},
   "outputs": [
    {
     "data": {
      "text/plain": [
       "5"
      ]
     },
     "execution_count": 102,
     "metadata": {},
     "output_type": "execute_result"
    }
   ],
   "source": [
    "# This is a Python cell. (This line is a Python comment)\n",
    "\n",
    "# If you click into this cell, you can run/execute it using Ctrl+Enter.\n",
    "# This will result in the cell's output being printed.\n",
    "\n",
    "1 + 4"
   ]
  },
  {
   "cell_type": "code",
   "execution_count": 103,
   "metadata": {},
   "outputs": [],
   "source": [
    "# <- Each execution of a Python cell is counted. The number of a cell's last\n",
    "#    execution is shown on the top left.\n",
    "\n",
    "# Try and run this cell several times\n",
    "\n",
    "x = 1 + 2"
   ]
  },
  {
   "cell_type": "markdown",
   "metadata": {},
   "source": [
    "Above cell has no output, this is because assigning a value to a variable does not result in an output.  \n",
    "If you add another line to above cell that just says `x`, the value of x will be output.  \n",
    "Alternatively, you can explicitly print the value of `x` with the line `print(x)`.\n",
    "\n",
    "**Question:** What is the difference between the output of the `x` line and the `print(x)` line?"
   ]
  },
  {
   "cell_type": "code",
   "execution_count": 104,
   "metadata": {},
   "outputs": [
    {
     "name": "stdout",
     "output_type": "stream",
     "text": [
      "3\n",
      "6\n"
     ]
    }
   ],
   "source": [
    "# The values of variables carry over to subsequently executed cells.\n",
    "# In other words, x still carries its value assigend in above Python cell.\n",
    "\n",
    "# Run this cell multiple times and see what happens.\n",
    "\n",
    "print(x)\n",
    "x = x * 2\n",
    "print(x)"
   ]
  },
  {
   "cell_type": "markdown",
   "metadata": {},
   "source": [
    "Python goodies\n",
    "-----------------------\n",
    "\n",
    "Compared to some other programming languages,\n",
    "Python is [relatively comfortable](https://xkcd.com/353/) to work with.  \n",
    "Below are just a few examples of the nifty things that are possible."
   ]
  },
  {
   "cell_type": "code",
   "execution_count": 105,
   "metadata": {},
   "outputs": [
    {
     "name": "stdout",
     "output_type": "stream",
     "text": [
      "Hello World!\n"
     ]
    }
   ],
   "source": [
    "# Printing, as you've seen, is dead easy.\n",
    "print('Hello World!')"
   ]
  },
  {
   "cell_type": "code",
   "execution_count": 106,
   "metadata": {},
   "outputs": [
    {
     "name": "stdout",
     "output_type": "stream",
     "text": [
      "The value of x is 6 and the value of y is 3.\n",
      "The value of x is 6 and the value of y is 3.\n"
     ]
    }
   ],
   "source": [
    "# Using variables in print statements is straightforward, too.\n",
    "y = 3\n",
    "print('The value of x is {} and the value of y is {}.'.format(x, y))\n",
    "\n",
    "# or, even shorter:\n",
    "print(f'The value of x is {x} and the value of y is {y}.')  #  (notice the `f` preceeding the string)"
   ]
  },
  {
   "cell_type": "code",
   "execution_count": 107,
   "metadata": {},
   "outputs": [
    {
     "name": "stdout",
     "output_type": "stream",
     "text": [
      "Help on built-in function print in module builtins:\n",
      "\n",
      "print(*args, sep=' ', end='\\n', file=None, flush=False)\n",
      "    Prints the values to a stream, or to sys.stdout by default.\n",
      "\n",
      "    sep\n",
      "      string inserted between values, default a space.\n",
      "    end\n",
      "      string appended after the last value, default a newline.\n",
      "    file\n",
      "      a file-like object (stream); defaults to the current sys.stdout.\n",
      "    flush\n",
      "      whether to forcibly flush the stream.\n",
      "\n"
     ]
    }
   ],
   "source": [
    "# Python has built in documentation that can be retrieved with the function `help`.\n",
    "# This can be handy to, for example, quickly look up the parameters a function expects.\n",
    "\n",
    "help(print)"
   ]
  },
  {
   "cell_type": "markdown",
   "metadata": {},
   "source": [
    "**Task:** Using the information given by `help(print)`, write a print statement that outputs the words *foo*, *bar*, and *baz* separated by semicolons."
   ]
  },
  {
   "cell_type": "code",
   "execution_count": 108,
   "metadata": {},
   "outputs": [],
   "source": [
    "# replace me with a print statement"
   ]
  },
  {
   "cell_type": "code",
   "execution_count": 109,
   "metadata": {},
   "outputs": [
    {
     "name": "stdout",
     "output_type": "stream",
     "text": [
      "[1, 2, 3, 'a', 'b', 'c']\n",
      "1\n",
      "c\n",
      "[2, 3, 'a', 'b', 'c']\n",
      "[3]\n",
      "[1, 2]\n"
     ]
    }
   ],
   "source": [
    "# Lists (\"arrays\") have some nice features.\n",
    "\n",
    "l = [1, 2, 3, 'a', 'b', 'c']\n",
    "print(l)\n",
    "print(l[0])  # indexing\n",
    "print(l[-1])  # negative indexing\n",
    "print(l[1:])  # slicing\n",
    "print(l[2:3])\n",
    "print(l[:-4])"
   ]
  },
  {
   "cell_type": "code",
   "execution_count": 110,
   "metadata": {},
   "outputs": [
    {
     "name": "stdout",
     "output_type": "stream",
     "text": [
      "World\n"
     ]
    }
   ],
   "source": [
    "# Strings are automatically treated as lists of characters\n",
    "\n",
    "print('Hello World!'[6:11])"
   ]
  },
  {
   "cell_type": "markdown",
   "metadata": {},
   "source": [
    "**Task:** Use slicing to make above print statement say *World* (without the exclamation mark) instead of *Hello*."
   ]
  },
  {
   "cell_type": "code",
   "execution_count": 111,
   "metadata": {},
   "outputs": [
    {
     "name": "stdout",
     "output_type": "stream",
     "text": [
      "a is 1\n",
      "b is 2\n",
      "c is 3\n",
      "x is 1\n",
      "y is [2, 3]\n"
     ]
    }
   ],
   "source": [
    "# More fun with lists\n",
    "\n",
    "l = [1, 2, 3]\n",
    "\n",
    "# unpacking\n",
    "a, b, c = l\n",
    "print(f'a is {a}\\nb is {b}\\nc is {c}')\n",
    "x, *y = l\n",
    "print(f'x is {x}\\ny is {y}')"
   ]
  },
  {
   "cell_type": "code",
   "execution_count": 112,
   "metadata": {},
   "outputs": [
    {
     "name": "stdout",
     "output_type": "stream",
     "text": [
      "[2, 4, 6]\n",
      "['€ 1;-', '€ 2;-', '€ 3;-']\n"
     ]
    }
   ],
   "source": [
    "# list comprehensions\n",
    "l_doubled = [i * 2 for i in l]\n",
    "print(l_doubled)\n",
    "l_stringed = ['€ {};-'.format(i) for i in l]\n",
    "print(l_stringed)"
   ]
  },
  {
   "cell_type": "code",
   "execution_count": 113,
   "metadata": {},
   "outputs": [
    {
     "name": "stdout",
     "output_type": "stream",
     "text": [
      "{'Venus': 0, 'Earth': 1, 'Mars': 2, 'Jupiter': 79, 'Neptune': 79}\n",
      "79\n"
     ]
    }
   ],
   "source": [
    "# Dictionaries\n",
    "\n",
    "number_of_moons = {'Venus': 0, 'Earth': 1, 'Mars': 2, 'Jupiter': 79, 'Neptune': 79}\n",
    "print(number_of_moons)\n",
    "print(number_of_moons['Neptune'])"
   ]
  },
  {
   "cell_type": "code",
   "execution_count": 114,
   "metadata": {},
   "outputs": [
    {
     "name": "stdout",
     "output_type": "stream",
     "text": [
      "{'not Venus': 3, 'not Earth': 4, 'not Mars': 5, 'not Jupiter': 82, 'not Neptune': 82}\n"
     ]
    }
   ],
   "source": [
    "# dictionary comprehension\n",
    "not_num_moons = {\n",
    "    'not {}'.format(key) : value + 3\n",
    "    for key, value\n",
    "    in number_of_moons.items()\n",
    "}\n",
    "print(not_num_moons)"
   ]
  },
  {
   "cell_type": "code",
   "execution_count": 115,
   "metadata": {},
   "outputs": [
    {
     "name": "stdout",
     "output_type": "stream",
     "text": [
      "Venus has 0 moons.\n",
      "Earth has 1 moons.\n",
      "Mars has 2 moons.\n",
      "Jupiter has 79 moons.\n",
      "Neptune has 79 moons.\n"
     ]
    }
   ],
   "source": [
    "# easy use in loops\n",
    "for key, val in number_of_moons.items():\n",
    "    print(f'{key} has {val} moons.')"
   ]
  },
  {
   "cell_type": "markdown",
   "metadata": {},
   "source": [
    "**Task:** In the cell below, write a list comprehension based on the list `planets` such that a list of the numbers of moons is printed."
   ]
  },
  {
   "cell_type": "code",
   "execution_count": 116,
   "metadata": {},
   "outputs": [
    {
     "name": "stdout",
     "output_type": "stream",
     "text": [
      "['Venus: 1 moons', 'Earth: 2 moons', 'Mars: 3 moons']\n"
     ]
    }
   ],
   "source": [
    "planets = ['Venus', 'Earth', 'Mars', 'Jupiter', 'Neptune']\n",
    "numbers = [1,2,3] # complete me\n",
    "numberMoons = [f\"{planet}: {num} moons\" for planet, num in zip(planets, numbers)]\n",
    "print(numberMoons)"
   ]
  },
  {
   "cell_type": "markdown",
   "metadata": {},
   "source": [
    "Python libraries\n",
    "-----------------------\n",
    "\n",
    "Python offers a lot of useful extra functionality in its [standard library](https://docs.python.org/3/library/)\n",
    "as well as [third party libraries](https://pypi.org/)."
   ]
  },
  {
   "cell_type": "code",
   "execution_count": 117,
   "metadata": {},
   "outputs": [
    {
     "name": "stdout",
     "output_type": "stream",
     "text": [
      "5.0\n",
      "2.718281828459045\n"
     ]
    }
   ],
   "source": [
    "# Libraries can be imported as follows\n",
    "\n",
    "import math  # imports the whole library\n",
    "from collections import defaultdict  # imports just part of a library\n",
    "from unicodedata import name as unicode_name  # imports under a specified name\n",
    "\n",
    "# And then used as shown below\n",
    "\n",
    "print(math.sqrt(25))\n",
    "print(math.exp(1))"
   ]
  },
  {
   "cell_type": "code",
   "execution_count": 118,
   "metadata": {},
   "outputs": [
    {
     "name": "stdout",
     "output_type": "stream",
     "text": [
      "3\n",
      "0\n"
     ]
    }
   ],
   "source": [
    "player_score = defaultdict(int)\n",
    "player_score['Alex'] = 3\n",
    "print(player_score['Alex'])\n",
    "print(player_score['Bob'])"
   ]
  },
  {
   "cell_type": "code",
   "execution_count": 119,
   "metadata": {},
   "outputs": [
    {
     "name": "stdout",
     "output_type": "stream",
     "text": [
      "SPACE\n",
      "LATIN SMALL LETTER SHARP S\n",
      "HIRAGANA LETTER A\n",
      "THUMBS UP SIGN\n"
     ]
    }
   ],
   "source": [
    "print(unicode_name(' '))\n",
    "print(unicode_name('ß'))  # as in the German word “Straße”\n",
    "print(unicode_name('あ'))  # as in the Japanese word かかあ天下\n",
    "print(unicode_name('👍'))  # as in “👍 was approved as part of Unicode 6.0 under the name ‘Thumbs Up Sign’”"
   ]
  },
  {
   "cell_type": "markdown",
   "metadata": {},
   "source": [
    "Third party libraries have to be installed before they can be used.\n",
    "This can be done, for example, using [pip](https://pip.pypa.io/en/stable/).\n",
    "\n",
    "To install third party libraries—ideally in a [virtual environment](https://docs.python.org/3/tutorial/venv.html)—using pip, execute `pip install <package_name>`.‌  \n",
    "For example `pip install matplotlib`.\n",
    "\n",
    "The following libraries will most likely be used frequently throughout the exercise sessions:\n",
    "\n",
    "* pandas\n",
    "* matplotlib\n",
    "* numpy\n",
    "* scipy\n",
    "* scikit-learn"
   ]
  },
  {
   "cell_type": "code",
   "execution_count": 120,
   "metadata": {},
   "outputs": [],
   "source": [
    "# A quick showcase\n",
    "\n",
    "import pandas as pd  # frequently used packages sometimes have common short handles they're imported as\n",
    "import numpy as np"
   ]
  },
  {
   "cell_type": "markdown",
   "metadata": {},
   "source": [
    "If executing above cell resulted in an error, you have to first install *pandas* and *numpy*."
   ]
  },
  {
   "cell_type": "code",
   "execution_count": 124,
   "metadata": {},
   "outputs": [
    {
     "data": {
      "text/plain": [
       "array([[<Axes: title={'center': 'values'}>]], dtype=object)"
      ]
     },
     "execution_count": 124,
     "metadata": {},
     "output_type": "execute_result"
    },
    {
     "data": {
      "image/png": "[encoded data removed]",
      "text/plain": [
       "<Figure size 640x480 with 1 Axes>"
      ]
     },
     "metadata": {},
     "output_type": "display_data"
    }
   ],
   "source": [
    "random_values = np.random.randn(100000, 1)  # a 100×1 \"matrix\" (basically a list) of normally distributed values\n",
    "df_showcase = pd.DataFrame(random_values, columns=['values'])\n",
    "df_showcase.hist(bins=100)"
   ]
  },
  {
   "cell_type": "markdown",
   "metadata": {},
   "source": [
    "**Task:**\n",
    "* Increase the number of random values and see, if you get a nicer bell curve than before.\n",
    "* Use `help` to learn about the parameters of the DataFrame's `hist` function and increase the number of bins used for the histogramm."
   ]
  },
  {
   "cell_type": "markdown",
   "metadata": {},
   "source": [
    "You're not the first to try this\n",
    "-----------------------------------------\n",
    "\n",
    "Trying to ...\n",
    "\n",
    "* parse a CSV file?\n",
    "* extract a piece of text from an HTML document?\n",
    "* use configuration files with your program? \n",
    "* display a progressbar for a long running process?\n",
    "* validate a URL?\n",
    "* detect the language a text is written in?\n",
    "\n",
    "You're not the first. If you're not doing it as a programming exercise, and *especially* if you're creating something that is supposed to be used by others, it is often advisable to look for a mature library that does the job.\n",
    "\n",
    "* CSV parsing is available in the [standard library](https://docs.python.org/3/library/csv.html); pandas also has a [builtin function](https://pandas.pydata.org/pandas-docs/stable/reference/api/pandas.read_csv.html)\n",
    "* HTML can be parsed with [Beautiful Soup](https://www.crummy.com/software/BeautifulSoup/)\n",
    "* Parsing configuration files is also part of the [standard library](https://docs.python.org/3/library/configparser.html)\n",
    "* A nice progressbar can be created using [tqdm](https://tqdm.github.io/)\n",
    "* URL validation, while a bit of an iffy topic, can be done with [urllib](https://docs.python.org/3/library/urllib.parse.html)\n",
    "* For language detection there is, for example, [langdetect](https://github.com/Mimino666/langdetect)\n",
    "\n",
    "**Bottom line:** the Python community is your friend. :)"
   ]
  },
  {
   "cell_type": "markdown",
   "metadata": {},
   "source": [
    "---\n",
    "\n",
    "As a minimal demonstration, here's effectively four lines of Python that retrieve the latest KIT news:  \n",
    "(The libraries used are `requests` and `beautifulsoup4`. You'll have to install them for the code to run.)"
   ]
  },
  {
   "cell_type": "code",
   "execution_count": 125,
   "metadata": {},
   "outputs": [
    {
     "name": "stdout",
     "output_type": "stream",
     "text": [
      "KIT News:\n",
      "=========\n",
      "First \"International Excellence Award\" for Chemist Thalappil Pradeep\n",
      "The top Indian researcher receives the KIT prize, endowed with up to 50,000 euros for tangible means, for his work on nanomaterials\n"
     ]
    }
   ],
   "source": [
    "import requests\n",
    "from bs4 import BeautifulSoup\n",
    "\n",
    "http_response = requests.get('https://www.kit.edu/english/')  # retrieve website content\n",
    "parsed_html = BeautifulSoup(http_response.text)               # parse html\n",
    "headline = parsed_html.find('span', class_='headline')        # find headline\n",
    "snippet = headline.parent.find('p')                           # find associated text snippet\n",
    "\n",
    "print(\n",
    "    'KIT News:\\n'\n",
    "    '=========\\n'\n",
    "    f'{headline.text}\\n'\n",
    "    f'{snippet.text}'\n",
    ")"
   ]
  },
  {
   "cell_type": "markdown",
   "metadata": {},
   "source": [
    "**NOTE:** before you get all enthusiastic now and start scraping websites left and right, *be aware* that there are laws and a general etiquette to be observed when accessing other people's stuff.\n",
    "\n",
    "A web search for \"ethical web scraping\" or \"responsible web scraping\" will lead you to further information. Key points:\n",
    "\n",
    "* Use an API if there is one\n",
    "* Identify yourself and your intent using the `User-Agent` header\n",
    "* Respect the robots.txt\n",
    "* Respect time-outs, crawl-rates, etc. as indicated in response headers or the robots.txt"
   ]
  }
 ],
 "metadata": {
  "kernelspec": {
   "display_name": "Python [default]",
   "language": "python",
   "name": "python3"
  },
  "language_info": {
   "codemirror_mode": {
    "name": "ipython",
    "version": 3
   },
   "file_extension": ".py",
   "mimetype": "text/x-python",
   "name": "python",
   "nbconvert_exporter": "python",
   "pygments_lexer": "ipython3",
   "version": "3.12.0"
  }
 },
 "nbformat": 4,
 "nbformat_minor": 4
}
